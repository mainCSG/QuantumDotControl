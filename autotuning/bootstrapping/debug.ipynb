{
 "cells": [
  {
   "cell_type": "code",
   "execution_count": 1,
   "metadata": {},
   "outputs": [],
   "source": [
    "import numpy as np\n",
    "import scipy \n",
    "import qcodes as qc\n",
    "import matplotlib.pyplot as plt\n",
    "import os\n",
    "import datetime\n",
    "\n",
    "## Multidimensional scanning module\n",
    "from qcodes.dataset import (\n",
    "    LinSweep,\n",
    "    TogetherSweep,\n",
    "    Measurement,\n",
    "    dond,\n",
    "    experiments,\n",
    "    initialise_or_create_database_at,\n",
    "    load_by_run_spec,\n",
    "    load_or_create_experiment,\n",
    "    plot_dataset,\n",
    ")\n",
    "\n",
    "## Using interactive widget\n",
    "from qcodes.interactive_widget import experiments_widget\n",
    "\n",
    "## Dummy instruments for generating synthetic data\n",
    "from qcodes.tests.instrument_mocks import (\n",
    "    DummyInstrument,\n",
    "    DummyInstrumentWithMeasurement,\n",
    ")\n"
   ]
  },
  {
   "cell_type": "code",
   "execution_count": 2,
   "metadata": {},
   "outputs": [],
   "source": [
    "import numpy as np\n",
    "import qcodes as qc\n",
    "from qcodes.instrument.base import Instrument\n",
    "from qcodes.instrument.parameter import Parameter\n",
    "\n",
    "def exp_fit(x, a, b, x0, y0):\n",
    "    return a * np.exp(b * (x - x0)) + y0\n",
    "\n",
    "def sigmoid_fit(x, a, b, x0, y0):\n",
    "    return a/(1+np.exp(b * (x-x0))) + y0\n",
    "\n",
    "class DummySemiconductor(Instrument):\n",
    "    def __init__(self, name, noise_level=2 * 1e-14, setter_instr=None,**kwargs):\n",
    "        super().__init__(name, **kwargs)\n",
    "        \n",
    "        # Define parameters\n",
    "        self.add_parameter('v1_turn_on',\n",
    "                           label='Voltage',\n",
    "                           unit='V',\n",
    "                           get_cmd=self._get_voltage_turn_on)\n",
    "        # Define parameters\n",
    "        self.add_parameter('v1_pinch_off',\n",
    "                           label='Voltage',\n",
    "                           unit='V',\n",
    "                           get_cmd=self._get_voltage_pinch_off)\n",
    "\n",
    "        self.multiplier = 2 # affects max current\n",
    "        self.a = self.multiplier *np.random.normal(-1.2e-12,0.01*1.2e-12, 1)\n",
    "        self.b = np.random.normal(-5,0.01*5, 1)\n",
    "        self.x0 = np.random.normal(0.2,0.01*0.2, 1)\n",
    "        self.y0 = self.multiplier * np.random.normal(1.5e-12,0.01*1.5e-12, 1)\n",
    "\n",
    "        self.c = self.multiplier *np.random.normal(-1e-12,0.01*1e-12, 1)\n",
    "        self.d = self.multiplier * np.random.normal(1e2,0.01*1e2, 1)\n",
    "        self.x1 = np.random.normal(self.x0,0.01*self.x0, 1)\n",
    "        self.y1 = self.multiplier * np.random.normal(1e-12,0.01*1e-12, 1)\n",
    "\n",
    "        self.noise_level = noise_level\n",
    "        self.setter_instr = setter_instr  # Placeholder for the setter instrument\n",
    "    \n",
    "    def _get_voltage_turn_on(self):\n",
    "        if self.setter_instr is None:\n",
    "            raise ValueError(\"The 'setter_instr' has not been set.\")\n",
    "        \n",
    "        # Get the value set on the setter instrument\n",
    "        ch1_value = self.setter_instr.ch1.get_latest() \n",
    "        \n",
    "        # Calculate exponential fit\n",
    "        result = max(0, exp_fit(ch1_value, self.a, self.b, self.x0, self.y0)) + self.noise_level * np.random.randn()\n",
    "    \n",
    "        return result\n",
    "    \n",
    "    def _get_voltage_pinch_off(self):\n",
    "        if self.setter_instr is None:\n",
    "            raise ValueError(\"The 'setter_instr' has not been set.\")\n",
    "        \n",
    "        # Get the value set on the setter instrument\n",
    "        ch1_value = self.setter_instr.ch1.get_latest() \n",
    "\n",
    "        # Calculate exponential fit\n",
    "        result = sigmoid_fit(ch1_value,self.c,self.d,self.x1,self.y1) + self.noise_level * np.random.randn()\n",
    "\n",
    "        return result\n",
    "\n",
    "    def ask(self, cmd):\n",
    "        # Define a basic ask method that returns a fixed response\n",
    "        if cmd.strip() == '*IDN?':\n",
    "            return 'DummySemiconductor,Virtual Instrument,1.0'\n",
    "        else:\n",
    "            raise NotImplementedError(f\"Command '{cmd}' is not implemented.\")\n"
   ]
  },
  {
   "cell_type": "code",
   "execution_count": 3,
   "metadata": {},
   "outputs": [],
   "source": [
    "device_gates = ['S','STL','LB','P','RB','STR']\n",
    "# A dummy signal generator with two parameters ch1 and ch2\n",
    "sim900 = DummyInstrument('sim900', gates=['ch1', 'ch2'])\n",
    "\n",
    "# A dummy digital multimeter that generates a synthetic data depending\n",
    "# on the values set on the setter_instr, in this case the dummy dac\n",
    "# agilent = DummyInstrumentWithMeasurement('agilent', setter_instr=sim900)\n",
    "# Instantiate the dummy semiconductor instrument\n",
    "agilent = DummySemiconductor('agilent', setter_instr=sim900)\n",
    "station = qc.Station(sim900, agilent)"
   ]
  },
  {
   "cell_type": "code",
   "execution_count": 4,
   "metadata": {},
   "outputs": [
    {
     "name": "stdout",
     "output_type": "stream",
     "text": [
      "~/experiments_2024-03-01.db\n"
     ]
    }
   ],
   "source": [
    "# Initialize or create the database at the specified path\n",
    "# Generate today's date in the format YYYY-MM-DD\n",
    "today_date = datetime.date.today().strftime(\"%Y-%m-%d\")\n",
    "initialise_or_create_database_at(f\"~/experiments_{today_date}.db\")\n",
    "print(qc.config.core.db_location)"
   ]
  },
  {
   "cell_type": "code",
   "execution_count": 5,
   "metadata": {},
   "outputs": [],
   "source": [
    "tutorial_exp = load_or_create_experiment(\"doNd_debug\", sample_name=\"no sample\")"
   ]
  },
  {
   "cell_type": "code",
   "execution_count": 6,
   "metadata": {},
   "outputs": [
    {
     "data": {
      "text/plain": [
       "[doNd_debug#no sample#1@/Users/andrijapaurevic/experiments_2024-03-01.db\n",
       " -----------------------------------------------------------------------]"
      ]
     },
     "execution_count": 6,
     "metadata": {},
     "output_type": "execute_result"
    }
   ],
   "source": [
    "experiments()"
   ]
  },
  {
   "cell_type": "code",
   "execution_count": 7,
   "metadata": {},
   "outputs": [],
   "source": [
    "device_info = {}"
   ]
  },
  {
   "cell_type": "code",
   "execution_count": 8,
   "metadata": {},
   "outputs": [
    {
     "name": "stdout",
     "output_type": "stream",
     "text": [
      "Starting experimental run with id: 1. Using 'qcodes.dataset.dond'\n"
     ]
    },
    {
     "name": "stderr",
     "output_type": "stream",
     "text": [
      "An exception occurred in measurement with guid: c970c66f-0000-0000-0000-018dfab7b2af;\n",
      "Traceback:\n",
      "Traceback (most recent call last):\n",
      "  File \"/Users/andrijapaurevic/opt/anaconda3/envs/opt_control/lib/python3.10/site-packages/qcodes/dataset/dond/do_nd.py\", line 754, in dond\n",
      "    raise BreakConditionInterrupt(\"Break condition was met.\")\n",
      "qcodes.dataset.dond.do_nd_utils.BreakConditionInterrupt: Break condition was met.\n",
      "\n",
      "Measurement has been interrupted, data may be incomplete: Break condition was met.\n"
     ]
    },
    {
     "name": "stdout",
     "output_type": "stream",
     "text": [
      "Turn on:  0.154 V\n",
      "Saturation Voltage:  0.37 V\n",
      "Global Turn On Distance:  0.216 V\n"
     ]
    },
    {
     "data": {
      "image/png": "[encoded data removed]",
      "text/plain": [
       "<Figure size 640x480 with 1 Axes>"
      ]
     },
     "metadata": {},
     "output_type": "display_data"
    }
   ],
   "source": [
    "max_V = 1\n",
    "N = 101\n",
    "\n",
    "min_current = 0.05 * 1e-12\n",
    "max_current = 2e-12\n",
    "\n",
    "sweep_ch1 = LinSweep(sim900.ch1, 0, max_V, N, 0.01, get_after_set=True)\n",
    "sweep_ch2 = LinSweep(sim900.ch2, 0, max_V, N, 0.01, get_after_set=True)\n",
    "\n",
    "gate_sweeps = [sweep_ch1, sweep_ch2]\n",
    "\n",
    "def isSaturated():\n",
    "    return agilent.v1_turn_on() > max_current\n",
    "\n",
    "def fit_data():\n",
    "    dataset = qc.load_last_experiment().last_data_set()\n",
    "    df = dataset.to_pandas_dataframe().reset_index()\n",
    "\n",
    "    df_current = df.copy()\n",
    "    df_current = df_current.rename(columns={'agilent_v1_turn_on': 'agilent_current'})\n",
    "    df_current.iloc[:,-1] = df_current.iloc[:,-1].mul(1).subtract(0) # sensitivity\n",
    "\n",
    "    axes = df_current.plot.scatter(y='agilent_current', x='sim900_ch1', linewidth=1, s=20, label=r'$I$')\n",
    "    axes.set_ylabel(r'$I$ (A)')\n",
    "    axes.set_xlabel(r'$V_{GATES}$ (V)')\n",
    "    axes.set_title('Global Turn-On')\n",
    "\n",
    "    mask = df_current['agilent_current'] > min_current # arbitrary current value, change if needed\n",
    "    X_thres = df_current['sim900_ch1'][mask]\n",
    "    Y_thres = df_current['agilent_current'][mask]\n",
    "    guess = (-max(Y_thres), -1, min(X_thres), max(Y_thres))\n",
    "    \n",
    "    fit_params, fit_cov = scipy.optimize.curve_fit(exp_fit, X_thres, Y_thres, guess)\n",
    "    a, b, x0, y0 = fit_params\n",
    "\n",
    "    plt.plot(X_thres, exp_fit(X_thres, a,b,x0,y0), 'r-', label='Fit')\n",
    "\n",
    "    V_turn_on =  round(np.log(-y0/a)/b + x0,3)\n",
    "    V_sat = df_current['sim900_ch1'].iloc[-1]\n",
    "    print(\"Turn on: \", V_turn_on, \"V\")\n",
    "    print(\"Saturation Voltage: \", V_sat, \"V\")\n",
    "    axes.axvline(x=V_turn_on, alpha=0.5, linestyle=':',label=r'$V_{TURNON}$')\n",
    "    axes.axvline(x=V_sat,alpha=0.5, linestyle='--',label=r'$V_{SAT}$')\n",
    "\n",
    "    plt.legend(loc='best')\n",
    "    print(\"Global Turn On Distance: \", V_sat - V_turn_on, \"V\")\n",
    "\n",
    "    device_info['Turn On'] = V_turn_on\n",
    "    device_info['Saturation'] = V_sat\n",
    "    device_info['Turn On Distance'] = V_sat - V_turn_on\n",
    "\n",
    "result = dond(\n",
    "    TogetherSweep(\n",
    "        *gate_sweeps\n",
    "    ), \n",
    "    agilent.v1_turn_on, \n",
    "    # show_progress=True, \n",
    "    # use_threads=False,\n",
    "    break_condition=isSaturated,\n",
    "    exit_actions=[fit_data],\n",
    "    exp=tutorial_exp,\n",
    "    measurement_name='Global Turn On',\n",
    ") # Return A tuple of QCoDeS DataSet, Matplotlib axis, Matplotlib colorbar.\n"
   ]
  },
  {
   "cell_type": "code",
   "execution_count": 9,
   "metadata": {},
   "outputs": [
    {
     "name": "stdout",
     "output_type": "stream",
     "text": [
      "sim900:\n",
      "\tparameter value\n",
      "--------------------------------------------------------------------------------\n",
      "IDN :\t{'vendor': 'QCoDeS', 'model': \"<class 'qcodes.instrument_drivers.mock_i...\n",
      "ch1 :\t0.37 (V)\n",
      "ch2 :\t0.37 (V)\n",
      "{'Turn On': 0.154, 'Saturation': 0.37, 'Turn On Distance': 0.216}\n"
     ]
    }
   ],
   "source": [
    "sim900.print_readable_snapshot()\n",
    "print(device_info)"
   ]
  },
  {
   "cell_type": "code",
   "execution_count": 13,
   "metadata": {},
   "outputs": [
    {
     "name": "stdout",
     "output_type": "stream",
     "text": [
      "Pinching off ch1\n",
      "Starting experimental run with id: 6. Using 'qcodes.dataset.dond'\n"
     ]
    },
    {
     "name": "stderr",
     "output_type": "stream",
     "text": [
      "An exception occurred in measurement with guid: 83e02830-0000-0000-0000-018dfaba03b0;\n",
      "Traceback:\n",
      "Traceback (most recent call last):\n",
      "  File \"/Users/andrijapaurevic/opt/anaconda3/envs/opt_control/lib/python3.10/site-packages/qcodes/dataset/dond/do_nd.py\", line 754, in dond\n",
      "    raise BreakConditionInterrupt(\"Break condition was met.\")\n",
      "qcodes.dataset.dond.do_nd_utils.BreakConditionInterrupt: Break condition was met.\n",
      "\n",
      "Measurement has been interrupted, data may be incomplete: Break condition was met.\n"
     ]
    },
    {
     "name": "stdout",
     "output_type": "stream",
     "text": [
      "sim900_ch1\n",
      "Fit function: sigmoid_fit\n",
      "Width of sigmoid: 0.029 mV\n"
     ]
    },
    {
     "data": {
      "image/png": "[encoded data removed]",
      "text/plain": [
       "<Figure size 640x480 with 1 Axes>"
      ]
     },
     "metadata": {},
     "output_type": "display_data"
    }
   ],
   "source": [
    "\n",
    "N = 101\n",
    "sweep_ch1 = LinSweep(station.sim900.ch1, device_info['Saturation'], 0, N, 0.01, get_after_set=True)\n",
    "sweep_ch2 = LinSweep(station.sim900.ch2, device_info['Saturation'], 0, N, 0.01, get_after_set=True)\n",
    "\n",
    "min_current_val = 0.1 * 1e-14\n",
    "\n",
    "gate_sweeps = [\n",
    "    sweep_ch1,\n",
    "    # sweep_ch2\n",
    "]\n",
    "\n",
    "def fit_data():\n",
    "\n",
    "    dataset = qc.load_last_experiment().last_data_set()\n",
    "    df = dataset.to_pandas_dataframe().reset_index()\n",
    "\n",
    "    df_current = df.copy()\n",
    "    df_current = df_current.rename(columns={'agilent_v1_pinch_off': 'agilent_current'})\n",
    "    df_current.iloc[:,-1] = df_current.iloc[:,-1].mul(1).subtract(0) # sensitivity\n",
    "\n",
    "    axes = df_current.plot.scatter(y='agilent_current', x='sim900_ch1', linewidth=1, s=20, label=r'$I$')\n",
    "\n",
    "    axes.set_ylabel(r'$I$ (A)')\n",
    "    axes.set_xlabel(r'$V_{{{gate}}}$ (V)'.format(gate=str(sweep._param).split('_')[-1]))\n",
    "    axes.set_title('Pinch Off')\n",
    "\n",
    "    X = df_current['sim900_ch1']\n",
    "    Y = df_current['agilent_current']\n",
    "\n",
    "    guess = (-2e-12,100,device_info['Turn On'],2e-12)\n",
    "    \n",
    "    fit_params, fit_cov = scipy.optimize.curve_fit(sigmoid_fit, X, Y, guess)\n",
    "    a, b, x0, y0 = fit_params\n",
    "\n",
    "    plt.plot(X, sigmoid_fit(X, a,b,x0,y0), 'r-', label='Fit')\n",
    "\n",
    "    print(f\"Fit function: {sigmoid_fit.__name__}\")\n",
    "    print(f\"Width of sigmoid: {round(2 * np.sqrt(8) / b,3)} mV\")\n",
    "    axes.axvline(x=x0 - np.sqrt(8) / b, alpha=0.5, linestyle='--')\n",
    "    axes.axvline(x=x0 + np.sqrt(8) / b,alpha=0.5, linestyle='--')\n",
    "\n",
    "def min_current():\n",
    "    return agilent.v1_pinch_off() < min_current_val\n",
    "    \n",
    "for sweep in (gate_sweeps):\n",
    "    print(f\"Pinching off {str(sweep._param).split('_')[-1]}\")\n",
    "    result = dond(\n",
    "        sweep,\n",
    "        agilent.v1_pinch_off, \n",
    "        break_condition=min_current,\n",
    "        exit_actions=[fit_data],\n",
    "        measurement_name='{} Pinch Off'.format(str(sweep._param).split('_')[-1]),\n",
    "        exp=tutorial_exp\n",
    "    )\n",
    "    "
   ]
  },
  {
   "cell_type": "code",
   "execution_count": null,
   "metadata": {},
   "outputs": [],
   "source": []
  }
 ],
 "metadata": {
  "kernelspec": {
   "display_name": "opt_control",
   "language": "python",
   "name": "python3"
  },
  "language_info": {
   "codemirror_mode": {
    "name": "ipython",
    "version": 3
   },
   "file_extension": ".py",
   "mimetype": "text/x-python",
   "name": "python",
   "nbconvert_exporter": "python",
   "pygments_lexer": "ipython3",
   "version": "3.10.11"
  }
 },
 "nbformat": 4,
 "nbformat_minor": 2
}
