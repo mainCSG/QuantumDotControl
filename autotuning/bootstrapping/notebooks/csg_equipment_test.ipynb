{
 "cells": [
  {
   "cell_type": "code",
   "execution_count": 1,
   "metadata": {},
   "outputs": [],
   "source": [
    "import os\n",
    "from pathlib import Path\n",
    "\n",
    "import qcodes\n",
    "from qcodes.dataset import (\n",
    "    LinSweep,\n",
    "    TogetherSweep,\n",
    "    do1d,\n",
    "    do2d,\n",
    "    dond,\n",
    "    Measurement,\n",
    "    load_or_create_experiment,\n",
    "    plot_dataset,\n",
    "    initialise_or_create_database_at\n",
    ")\n",
    "\n",
    "import numpy as np\n",
    "\n",
    "import scipy\n",
    "\n",
    "import time\n",
    "\n",
    "import matplotlib.pyplot as plt"
   ]
  },
  {
   "cell_type": "markdown",
   "metadata": {},
   "source": [
    "## Measuring Current Pre-Amp Bias"
   ]
  },
  {
   "cell_type": "code",
   "execution_count": 2,
   "metadata": {},
   "outputs": [
    {
     "name": "stdout",
     "output_type": "stream",
     "text": [
      "Connected to: Stanford_Research_Systems SIM900 (serial:s/n130900, firmware:ver3.6) in 1.76s\n",
      "Connected to: HEWLETT-PACKARD 34401A (serial:0, firmware:11-5-3) in 0.10s\n"
     ]
    },
    {
     "data": {
      "text/plain": [
       "<Agilent34401A: agilent>"
      ]
     },
     "execution_count": 2,
     "metadata": {},
     "output_type": "execute_result"
    }
   ],
   "source": [
    "# Load in Station\n",
    "station = qcodes.Station(config_file='../station_config.yml')\n",
    "station.load_instrument('sim900')\n",
    "station.load_instrument('agilent')"
   ]
  },
  {
   "cell_type": "code",
   "execution_count": null,
   "metadata": {},
   "outputs": [],
   "source": [
    "preamp_bias_exp = load_or_create_experiment('Current PreAmp-2 Bias Experiment', sample_name='10MOhm Resistor')"
   ]
  },
  {
   "cell_type": "code",
   "execution_count": null,
   "metadata": {},
   "outputs": [],
   "source": [
    "VI_sweep = Measurement(exp=preamp_bias_exp)"
   ]
  },
  {
   "cell_type": "code",
   "execution_count": null,
   "metadata": {},
   "outputs": [],
   "source": [
    "# Record independent variable\n",
    "VI_sweep.register_parameter(station.sim900.volt_1)\n",
    "# Record dependent variable (setpoints implies dependency)\n",
    "VI_sweep.register_parameter(station.agilent.volt, setpoints=[station.sim900.volt_1])\n",
    "\n",
    "dV = 1e-3 # min resolution\n",
    "volt_min, volt_max = -10e-3, 10e-3\n",
    "voltage_sweep = np.arange(volt_min, volt_max, dV) # sweep values\n",
    "station.sim900.set_smooth({1: volt_min}) # smoothly ramp to start point\n",
    "\n",
    "with VI_sweep.run() as datasaver:\n",
    "    for voltage in voltage_sweep:\n",
    "        station.sim900.volt_1.set(voltage) # set voltage (mV)\n",
    "        datasaver.add_result(\n",
    "            (station.sim900.volt_1, station.sim900.volt_1()),\n",
    "            (station.agilent.volt, station.agilent.volt())\n",
    "            ) # record measurement\n",
    "        \n",
    "station.sim900.set_smooth({1: 0}) # smoothly ramp to 0V after measurement\n",
    "dataset = datasaver.dataset"
   ]
  },
  {
   "cell_type": "code",
   "execution_count": null,
   "metadata": {},
   "outputs": [],
   "source": [
    "df = dataset.to_pandas_dataframe().reset_index()\n",
    "\n",
    "df_current = df.copy()\n",
    "df_current = df_current.rename(columns={'agilent_volt': 'agilent_current'})\n",
    "df_current.iloc[:,1] = df_current.iloc[:,1].mul(-1e-6) # sensitivity\n",
    "\n",
    "V = df_current['sim900_volt_1'] # V\n",
    "I = df_current['agilent_current'] # A\n",
    "\n",
    "def linear(x, m, b):\n",
    "    return m * x + b\n",
    "\n",
    "fit_params, pcov = scipy.optimize.curve_fit(linear, xdata=V, ydata=I, p0=(1, 0))\n",
    "\n",
    "G, IBias = fit_params\n",
    "\n",
    "R = 1/G\n",
    "\n",
    "print(\"Resistance is {:3f} M\\u03A9\".format(R/1e6))\n",
    "print(\"Y-Intercept is (0 mV, {:3f} nA)\".format(IBias/1e-9))\n",
    "print(\"X-Intercept is ({:3f} mV, 0 nA)\".format((-IBias/G) / 1e-3))\n",
    "\n",
    "axes = df_current.plot.scatter(y='agilent_current', x='sim900_volt_1', linewidth=1, s=20, label=r'$I_{\\text{RAW}}$')\n",
    "axes.axhline(y=0, color='k', alpha=0.25, linestyle='--')\n",
    "axes.axvline(x=0, color='k', alpha=0.25, linestyle='--')\n",
    "axes.scatter([0],[IBias], s=45, marker='x', c='r', label='Current Bias: {:.3f} nA'.format(IBias/1e-9))\n",
    "axes.set_ylabel(r'$I$ (A)')\n",
    "axes.set_xlabel(r'$V_{\\text{SIM900}}$ (V)')\n",
    "axes.set_title('CSG Current PreAmp-2 Bias')\n",
    "\n",
    "df_current_nobias = df_current.copy()\n",
    "# subtract the bias\n",
    "df_current_nobias.iloc[:,1] = df_current_nobias.iloc[:,1].subtract(IBias)\n",
    "axes.scatter(df_current_nobias['sim900_volt_1'], df_current_nobias['agilent_current'], color='k', s=20, label=r'$I_{\\text{CORRECTED}}$')\n",
    "axes.legend(loc='best')"
   ]
  },
  {
   "cell_type": "markdown",
   "metadata": {},
   "source": [
    "## 0. Set-up the Dataset"
   ]
  },
  {
   "cell_type": "code",
   "execution_count": 3,
   "metadata": {},
   "outputs": [],
   "source": [
    "def exp_fit(x, a, b, x0, y0):\n",
    "    return a * np.exp(b * (x-x0)) + y0\n",
    "\n",
    "def sigmoid_fit(x, a, b, x0, y0):\n",
    "    return a/(1+np.exp(b * (x-x0))) + y0"
   ]
  },
  {
   "cell_type": "code",
   "execution_count": 4,
   "metadata": {},
   "outputs": [],
   "source": [
    "import datetime\n",
    "# Initialize or create the database at the specified path\n",
    "# Generate today's date in the format YYYY-MM-DD\n",
    "today_date = datetime.date.today().strftime(\"%Y-%m-%d\")\n",
    "initialise_or_create_database_at(f\"~/experiments_{today_date}.db\")"
   ]
  },
  {
   "cell_type": "code",
   "execution_count": 5,
   "metadata": {},
   "outputs": [],
   "source": [
    "initialization_exp = load_or_create_experiment('Initialization Experiment', sample_name='SHT 2AB')"
   ]
  },
  {
   "cell_type": "code",
   "execution_count": 6,
   "metadata": {},
   "outputs": [
    {
     "name": "stdout",
     "output_type": "stream",
     "text": [
      "sim900:\n",
      "\tparameter      value\n",
      "--------------------------------------------------------------------------------\n",
      "IDN             :\t{'vendor': 'Stanford_Research_Systems', 'model': 'SIM900', ...\n",
      "IDN_7           :\t{'vendor': 'Stanford_Research_Systems', 'model': 'SIM928', ...\n",
      "IDN_8           :\t{'vendor': 'Stanford_Research_Systems', 'model': 'SIM928', ...\n",
      "IDN_LB          :\t{'vendor': 'Stanford_Research_Systems', 'model': 'SIM928', ...\n",
      "IDN_P           :\t{'vendor': 'Stanford_Research_Systems', 'model': 'SIM928', ...\n",
      "IDN_RB          :\t{'vendor': 'Stanford_Research_Systems', 'model': 'SIM928', ...\n",
      "IDN_S           :\t{'vendor': 'Stanford_Research_Systems', 'model': 'SIM928', ...\n",
      "IDN_STL         :\t{'vendor': 'Stanford_Research_Systems', 'model': 'SIM928', ...\n",
      "IDN_STR         :\t{'vendor': 'Stanford_Research_Systems', 'model': 'SIM928', ...\n",
      "smooth_timestep :\t1 (s)\n",
      "timeout         :\t10 (s)\n",
      "volt_7          :\t0 (V)\n",
      "volt_7_step     :\t0.005 (V)\n",
      "volt_8          :\t0 (V)\n",
      "volt_8_step     :\t0.005 (V)\n",
      "volt_LB         :\t0 (V)\n",
      "volt_LB_step    :\t0.01 (V)\n",
      "volt_P          :\t0 (V)\n",
      "volt_P_step     :\t0.01 (V)\n",
      "volt_RB         :\t0 (V)\n",
      "volt_RB_step    :\t0.01 (V)\n",
      "volt_S          :\t0 (V)\n",
      "volt_STL        :\t0 (V)\n",
      "volt_STL_step   :\t0.01 (V)\n",
      "volt_STR        :\t0 (V)\n",
      "volt_STR_step   :\t0.01 (V)\n",
      "volt_S_step     :\t0.1 (V)\n"
     ]
    }
   ],
   "source": [
    "station.sim900.set_smooth({\n",
    "    'S': 0,\n",
    "    'LB': 0,\n",
    "    'RB': 0,\n",
    "    'STR':0\n",
    "})\n",
    "station.sim900.print_readable_snapshot()"
   ]
  },
  {
   "cell_type": "code",
   "execution_count": 7,
   "metadata": {},
   "outputs": [],
   "source": [
    "device_info = {}"
   ]
  },
  {
   "cell_type": "code",
   "execution_count": 22,
   "metadata": {},
   "outputs": [],
   "source": [
    "station.sim900.set_smooth({\n",
    "    'S': 0,\n",
    "    'LB': 0,\n",
    "    'RB': 0,\n",
    "    'STR':0\n",
    "})"
   ]
  },
  {
   "cell_type": "code",
   "execution_count": 12,
   "metadata": {},
   "outputs": [],
   "source": [
    "# Bias the device\n",
    "station.sim900.set_smooth({\n",
    "    'LB': 0,\n",
    "    'RB': 0,\n",
    "    'STR': 0\n",
    "})\n",
    "\n",
    "sensitivity = 1e-5 # A/V\n",
    "VBias = -7 # V\n",
    "\n",
    "min_current_threshold = 0.5e-9\n",
    "max_current_threshold = 2e-9\n",
    "\n",
    "station.sim900.set_smooth({'S': VBias})\n",
    "\n",
    "IBias = 1.5e-9"
   ]
  },
  {
   "cell_type": "code",
   "execution_count": 13,
   "metadata": {},
   "outputs": [
    {
     "name": "stdout",
     "output_type": "stream",
     "text": [
      "2.2901550000000003e-09\n"
     ]
    }
   ],
   "source": [
    "print(min_current_threshold)"
   ]
  },
  {
   "cell_type": "markdown",
   "metadata": {},
   "source": [
    "## 1. Global Turn On"
   ]
  },
  {
   "cell_type": "code",
   "execution_count": 14,
   "metadata": {},
   "outputs": [
    {
     "name": "stdout",
     "output_type": "stream",
     "text": [
      "Starting experimental run with id: 14. Using 'qcodes.dataset.dond'\n",
      "     sim900_volt_STR  sim900_volt_LB  sim900_volt_RB  agilent_volt\n",
      "0               0.00            0.00            0.00      0.000153\n",
      "1              -0.01           -0.01           -0.01      0.000154\n",
      "2              -0.02           -0.02           -0.02      0.000154\n",
      "3              -0.03           -0.03           -0.03      0.000155\n",
      "4              -0.04           -0.04           -0.04      0.000153\n",
      "..               ...             ...             ...           ...\n",
      "115            -1.15           -1.15           -1.15      0.000514\n",
      "116            -1.16           -1.16           -1.16      0.000511\n",
      "117            -1.17           -1.17           -1.17      0.000512\n",
      "118            -1.18           -1.18           -1.18      0.000508\n",
      "119            -1.19           -1.19           -1.19      0.000511\n",
      "\n",
      "[120 rows x 4 columns]\n"
     ]
    },
    {
     "name": "stderr",
     "output_type": "stream",
     "text": [
      "An exception occurred in measurement with guid: 0f7012e5-0000-0000-0000-018dfb779686;\n",
      "Traceback:\n",
      "Traceback (most recent call last):\n",
      "  File \"c:\\Users\\coher\\Documents\\GitHub\\QuantumDotControl\\.venv\\lib\\site-packages\\qcodes\\dataset\\dond\\do_nd.py\", line 732, in dond\n",
      "    results[set_event.parameter] = set_event.parameter()\n",
      "  File \"c:\\Users\\coher\\Documents\\GitHub\\QuantumDotControl\\.venv\\lib\\site-packages\\qcodes\\parameters\\parameter_base.py\", line 462, in __call__\n",
      "    return self.get()\n",
      "  File \"c:\\Users\\coher\\Documents\\GitHub\\QuantumDotControl\\.venv\\lib\\site-packages\\qcodes\\parameters\\parameter_base.py\", line 675, in get_wrapper\n",
      "    raise e\n",
      "  File \"c:\\Users\\coher\\Documents\\GitHub\\QuantumDotControl\\.venv\\lib\\site-packages\\qcodes\\parameters\\parameter_base.py\", line 662, in get_wrapper\n",
      "    raw_value = get_function(*args, **kwargs)\n",
      "  File \"c:\\Users\\coher\\Documents\\GitHub\\QuantumDotControl\\.venv\\lib\\site-packages\\qcodes\\parameters\\command.py\", line 209, in __call__\n",
      "    return self.exec_function(*args)\n",
      "  File \"c:\\Users\\coher\\Documents\\GitHub\\QuantumDotControl\\.venv\\lib\\site-packages\\qcodes_contrib_drivers\\drivers\\StanfordResearchSystems\\SIM928.py\", line 188, in get_voltage\n",
      "    return float(self.ask_module(i, 'VOLT?'))\n",
      "  File \"c:\\Users\\coher\\Documents\\GitHub\\QuantumDotControl\\.venv\\lib\\site-packages\\qcodes_contrib_drivers\\drivers\\StanfordResearchSystems\\SIM928.py\", line 130, in ask_module\n",
      "    self.visa_handle.read()\n",
      "  File \"c:\\Users\\coher\\Documents\\GitHub\\QuantumDotControl\\.venv\\lib\\site-packages\\pyvisa\\resources\\messagebased.py\", line 485, in read\n",
      "    message = self._read_raw().decode(enco)\n",
      "  File \"c:\\Users\\coher\\Documents\\GitHub\\QuantumDotControl\\.venv\\lib\\site-packages\\pyvisa\\resources\\messagebased.py\", line 441, in _read_raw\n",
      "    chunk, status = self.visalib.read(self.session, size)\n",
      "  File \"c:\\Users\\coher\\Documents\\GitHub\\QuantumDotControl\\.venv\\lib\\site-packages\\pyvisa\\ctwrapper\\functions.py\", line 2336, in read\n",
      "    ret = library.viRead(session, buffer, count, byref(return_count))\n",
      "  File \"c:\\Users\\coher\\Documents\\GitHub\\QuantumDotControl\\.venv\\lib\\site-packages\\pyvisa\\ctwrapper\\highlevel.py\", line 226, in _return_handler\n",
      "    return self.handle_return_value(session, ret_value)  # type: ignore\n",
      "  File \"c:\\Users\\coher\\Documents\\GitHub\\QuantumDotControl\\.venv\\lib\\site-packages\\pyvisa\\highlevel.py\", line 251, in handle_return_value\n",
      "    raise errors.VisaIOError(rv)\n",
      "pyvisa.errors.VisaIOError: ('VI_ERROR_TMO (-1073807339): Timeout expired before operation completed.', 'getting sim900_volt_RB')\n",
      "\n"
     ]
    },
    {
     "name": "stdout",
     "output_type": "stream",
     "text": [
      "Turn on:  -0.39 V\n",
      "Saturation Voltage:  -1.19 V\n",
      "Global Turn On Distance:  -0.7999999999999999 V\n"
     ]
    },
    {
     "ename": "VisaIOError",
     "evalue": "('VI_ERROR_TMO (-1073807339): Timeout expired before operation completed.', 'getting sim900_volt_RB')",
     "output_type": "error",
     "traceback": [
      "\u001b[1;31m---------------------------------------------------------------------------\u001b[0m",
      "\u001b[1;31mVisaIOError\u001b[0m                               Traceback (most recent call last)",
      "Cell \u001b[1;32mIn[14], line 72\u001b[0m\n\u001b[0;32m     62\u001b[0m \u001b[38;5;66;03m# order of sweep matters\u001b[39;00m\n\u001b[0;32m     63\u001b[0m gate_sweeps \u001b[38;5;241m=\u001b[39m [\n\u001b[0;32m     64\u001b[0m     \u001b[38;5;66;03m# sweep_STL,\u001b[39;00m\n\u001b[0;32m     65\u001b[0m     sweep_STR,\n\u001b[1;32m   (...)\u001b[0m\n\u001b[0;32m     69\u001b[0m \n\u001b[0;32m     70\u001b[0m ]\n\u001b[1;32m---> 72\u001b[0m global_turn_on,_,_ \u001b[38;5;241m=\u001b[39m \u001b[43mdond\u001b[49m\u001b[43m(\u001b[49m\n\u001b[0;32m     73\u001b[0m \u001b[43m    \u001b[49m\u001b[43mTogetherSweep\u001b[49m\u001b[43m(\u001b[49m\n\u001b[0;32m     74\u001b[0m \u001b[43m        \u001b[49m\u001b[38;5;241;43m*\u001b[39;49m\u001b[43mgate_sweeps\u001b[49m\n\u001b[0;32m     75\u001b[0m \u001b[43m    \u001b[49m\u001b[43m)\u001b[49m\u001b[43m,\u001b[49m\u001b[43m \u001b[49m\n\u001b[0;32m     76\u001b[0m \u001b[43m    \u001b[49m\u001b[43mstation\u001b[49m\u001b[38;5;241;43m.\u001b[39;49m\u001b[43magilent\u001b[49m\u001b[38;5;241;43m.\u001b[39;49m\u001b[43mvolt\u001b[49m\u001b[43m,\u001b[49m\u001b[43m \u001b[49m\n\u001b[0;32m     77\u001b[0m \u001b[43m    \u001b[49m\u001b[43mbreak_condition\u001b[49m\u001b[38;5;241;43m=\u001b[39;49m\u001b[43mmax_current\u001b[49m\u001b[43m,\u001b[49m\n\u001b[0;32m     78\u001b[0m \u001b[43m    \u001b[49m\u001b[43mexit_actions\u001b[49m\u001b[38;5;241;43m=\u001b[39;49m\u001b[43m[\u001b[49m\u001b[43mfit_data\u001b[49m\u001b[43m]\u001b[49m\u001b[43m,\u001b[49m\n\u001b[0;32m     79\u001b[0m \u001b[43m    \u001b[49m\u001b[43mmeasurement_name\u001b[49m\u001b[38;5;241;43m=\u001b[39;49m\u001b[38;5;124;43m'\u001b[39;49m\u001b[38;5;124;43mGlobal Turn On\u001b[39;49m\u001b[38;5;124;43m'\u001b[39;49m\u001b[43m,\u001b[49m\n\u001b[0;32m     80\u001b[0m \u001b[43m    \u001b[49m\u001b[43mexp\u001b[49m\u001b[38;5;241;43m=\u001b[39;49m\u001b[43minitialization_exp\u001b[49m\u001b[43m,\u001b[49m\n\u001b[0;32m     81\u001b[0m \u001b[43m)\u001b[49m \u001b[38;5;66;03m# Return A tuple of QCoDeS DataSet, Matplotlib axis, Matplotlib colorbar.\u001b[39;00m\n",
      "File \u001b[1;32m~\\AppData\\Local\\Programs\\Python\\Python310\\lib\\contextlib.py:79\u001b[0m, in \u001b[0;36mContextDecorator.__call__.<locals>.inner\u001b[1;34m(*args, **kwds)\u001b[0m\n\u001b[0;32m     76\u001b[0m \u001b[38;5;129m@wraps\u001b[39m(func)\n\u001b[0;32m     77\u001b[0m \u001b[38;5;28;01mdef\u001b[39;00m \u001b[38;5;21minner\u001b[39m(\u001b[38;5;241m*\u001b[39margs, \u001b[38;5;241m*\u001b[39m\u001b[38;5;241m*\u001b[39mkwds):\n\u001b[0;32m     78\u001b[0m     \u001b[38;5;28;01mwith\u001b[39;00m \u001b[38;5;28mself\u001b[39m\u001b[38;5;241m.\u001b[39m_recreate_cm():\n\u001b[1;32m---> 79\u001b[0m         \u001b[38;5;28;01mreturn\u001b[39;00m func(\u001b[38;5;241m*\u001b[39margs, \u001b[38;5;241m*\u001b[39m\u001b[38;5;241m*\u001b[39mkwds)\n",
      "File \u001b[1;32mc:\\Users\\coher\\Documents\\GitHub\\QuantumDotControl\\.venv\\lib\\site-packages\\qcodes\\dataset\\dond\\do_nd.py:732\u001b[0m, in \u001b[0;36mdond\u001b[1;34m(write_period, measurement_name, exp, enter_actions, exit_actions, do_plot, show_progress, use_threads, additional_setpoints, log_info, break_condition, dataset_dependencies, in_memory_cache, *params)\u001b[0m\n\u001b[0;32m    729\u001b[0m     time\u001b[38;5;241m.\u001b[39msleep(set_event\u001b[38;5;241m.\u001b[39mdelay)\n\u001b[0;32m    731\u001b[0m \u001b[38;5;28;01mif\u001b[39;00m set_event\u001b[38;5;241m.\u001b[39mget_after_set:\n\u001b[1;32m--> 732\u001b[0m     results[set_event\u001b[38;5;241m.\u001b[39mparameter] \u001b[38;5;241m=\u001b[39m \u001b[43mset_event\u001b[49m\u001b[38;5;241;43m.\u001b[39;49m\u001b[43mparameter\u001b[49m\u001b[43m(\u001b[49m\u001b[43m)\u001b[49m\n\u001b[0;32m    733\u001b[0m \u001b[38;5;28;01melse\u001b[39;00m:\n\u001b[0;32m    734\u001b[0m     results[set_event\u001b[38;5;241m.\u001b[39mparameter] \u001b[38;5;241m=\u001b[39m set_event\u001b[38;5;241m.\u001b[39mnew_value\n",
      "File \u001b[1;32mc:\\Users\\coher\\Documents\\GitHub\\QuantumDotControl\\.venv\\lib\\site-packages\\qcodes\\parameters\\parameter_base.py:462\u001b[0m, in \u001b[0;36mParameterBase.__call__\u001b[1;34m(self, *args, **kwargs)\u001b[0m\n\u001b[0;32m    460\u001b[0m \u001b[38;5;28;01mif\u001b[39;00m \u001b[38;5;28mlen\u001b[39m(args) \u001b[38;5;241m==\u001b[39m \u001b[38;5;241m0\u001b[39m \u001b[38;5;129;01mand\u001b[39;00m \u001b[38;5;28mlen\u001b[39m(kwargs) \u001b[38;5;241m==\u001b[39m \u001b[38;5;241m0\u001b[39m:\n\u001b[0;32m    461\u001b[0m     \u001b[38;5;28;01mif\u001b[39;00m \u001b[38;5;28mself\u001b[39m\u001b[38;5;241m.\u001b[39mgettable:\n\u001b[1;32m--> 462\u001b[0m         \u001b[38;5;28;01mreturn\u001b[39;00m \u001b[38;5;28;43mself\u001b[39;49m\u001b[38;5;241;43m.\u001b[39;49m\u001b[43mget\u001b[49m\u001b[43m(\u001b[49m\u001b[43m)\u001b[49m\n\u001b[0;32m    463\u001b[0m     \u001b[38;5;28;01melse\u001b[39;00m:\n\u001b[0;32m    464\u001b[0m         \u001b[38;5;28;01mraise\u001b[39;00m \u001b[38;5;167;01mNotImplementedError\u001b[39;00m(\u001b[38;5;124mf\u001b[39m\u001b[38;5;124m\"\u001b[39m\u001b[38;5;124mno get cmd found in Parameter \u001b[39m\u001b[38;5;132;01m{\u001b[39;00m\u001b[38;5;28mself\u001b[39m\u001b[38;5;241m.\u001b[39mname\u001b[38;5;132;01m}\u001b[39;00m\u001b[38;5;124m\"\u001b[39m)\n",
      "File \u001b[1;32mc:\\Users\\coher\\Documents\\GitHub\\QuantumDotControl\\.venv\\lib\\site-packages\\qcodes\\parameters\\parameter_base.py:675\u001b[0m, in \u001b[0;36mParameterBase._wrap_get.<locals>.get_wrapper\u001b[1;34m(*args, **kwargs)\u001b[0m\n\u001b[0;32m    673\u001b[0m \u001b[38;5;28;01mexcept\u001b[39;00m \u001b[38;5;167;01mException\u001b[39;00m \u001b[38;5;28;01mas\u001b[39;00m e:\n\u001b[0;32m    674\u001b[0m     e\u001b[38;5;241m.\u001b[39margs \u001b[38;5;241m=\u001b[39m e\u001b[38;5;241m.\u001b[39margs \u001b[38;5;241m+\u001b[39m (\u001b[38;5;124mf\u001b[39m\u001b[38;5;124m\"\u001b[39m\u001b[38;5;124mgetting \u001b[39m\u001b[38;5;132;01m{\u001b[39;00m\u001b[38;5;28mself\u001b[39m\u001b[38;5;132;01m}\u001b[39;00m\u001b[38;5;124m\"\u001b[39m,)\n\u001b[1;32m--> 675\u001b[0m     \u001b[38;5;28;01mraise\u001b[39;00m e\n",
      "File \u001b[1;32mc:\\Users\\coher\\Documents\\GitHub\\QuantumDotControl\\.venv\\lib\\site-packages\\qcodes\\parameters\\parameter_base.py:662\u001b[0m, in \u001b[0;36mParameterBase._wrap_get.<locals>.get_wrapper\u001b[1;34m(*args, **kwargs)\u001b[0m\n\u001b[0;32m    657\u001b[0m     \u001b[38;5;28;01mraise\u001b[39;00m \u001b[38;5;167;01mNotImplementedError\u001b[39;00m(\n\u001b[0;32m    658\u001b[0m         \u001b[38;5;124mf\u001b[39m\u001b[38;5;124m\"\u001b[39m\u001b[38;5;124mTrying to get an abstract parameter: \u001b[39m\u001b[38;5;132;01m{\u001b[39;00m\u001b[38;5;28mself\u001b[39m\u001b[38;5;241m.\u001b[39mfull_name\u001b[38;5;132;01m}\u001b[39;00m\u001b[38;5;124m\"\u001b[39m\n\u001b[0;32m    659\u001b[0m     )\n\u001b[0;32m    660\u001b[0m \u001b[38;5;28;01mtry\u001b[39;00m:\n\u001b[0;32m    661\u001b[0m     \u001b[38;5;66;03m# There might be cases where a .get also has args/kwargs\u001b[39;00m\n\u001b[1;32m--> 662\u001b[0m     raw_value \u001b[38;5;241m=\u001b[39m get_function(\u001b[38;5;241m*\u001b[39margs, \u001b[38;5;241m*\u001b[39m\u001b[38;5;241m*\u001b[39mkwargs)\n\u001b[0;32m    664\u001b[0m     value \u001b[38;5;241m=\u001b[39m \u001b[38;5;28mself\u001b[39m\u001b[38;5;241m.\u001b[39m_from_raw_value_to_value(raw_value)\n\u001b[0;32m    666\u001b[0m     \u001b[38;5;28;01mif\u001b[39;00m \u001b[38;5;28mself\u001b[39m\u001b[38;5;241m.\u001b[39m_validate_on_get:\n",
      "File \u001b[1;32mc:\\Users\\coher\\Documents\\GitHub\\QuantumDotControl\\.venv\\lib\\site-packages\\qcodes\\parameters\\command.py:209\u001b[0m, in \u001b[0;36mCommand.__call__\u001b[1;34m(self, *args)\u001b[0m\n\u001b[0;32m    207\u001b[0m \u001b[38;5;28;01mif\u001b[39;00m \u001b[38;5;28mlen\u001b[39m(args) \u001b[38;5;241m!=\u001b[39m \u001b[38;5;28mself\u001b[39m\u001b[38;5;241m.\u001b[39marg_count:\n\u001b[0;32m    208\u001b[0m     \u001b[38;5;28;01mraise\u001b[39;00m \u001b[38;5;167;01mTypeError\u001b[39;00m(\u001b[38;5;124mf\u001b[39m\u001b[38;5;124m\"\u001b[39m\u001b[38;5;124mcommand takes exactly \u001b[39m\u001b[38;5;132;01m{\u001b[39;00m\u001b[38;5;28mself\u001b[39m\u001b[38;5;241m.\u001b[39marg_count\u001b[38;5;132;01m}\u001b[39;00m\u001b[38;5;124m args\u001b[39m\u001b[38;5;124m\"\u001b[39m)\n\u001b[1;32m--> 209\u001b[0m \u001b[38;5;28;01mreturn\u001b[39;00m \u001b[38;5;28;43mself\u001b[39;49m\u001b[38;5;241;43m.\u001b[39;49m\u001b[43mexec_function\u001b[49m\u001b[43m(\u001b[49m\u001b[38;5;241;43m*\u001b[39;49m\u001b[43margs\u001b[49m\u001b[43m)\u001b[49m\n",
      "File \u001b[1;32mc:\\Users\\coher\\Documents\\GitHub\\QuantumDotControl\\.venv\\lib\\site-packages\\qcodes_contrib_drivers\\drivers\\StanfordResearchSystems\\SIM928.py:188\u001b[0m, in \u001b[0;36mSIM928.get_voltage\u001b[1;34m(self, i)\u001b[0m\n\u001b[0;32m    186\u001b[0m \u001b[38;5;28;01mif\u001b[39;00m \u001b[38;5;129;01mnot\u001b[39;00m \u001b[38;5;28misinstance\u001b[39m(i, \u001b[38;5;28mint\u001b[39m):\n\u001b[0;32m    187\u001b[0m     i \u001b[38;5;241m=\u001b[39m \u001b[38;5;28mself\u001b[39m\u001b[38;5;241m.\u001b[39mmodule_nr[i]\n\u001b[1;32m--> 188\u001b[0m \u001b[38;5;28;01mreturn\u001b[39;00m \u001b[38;5;28mfloat\u001b[39m(\u001b[38;5;28;43mself\u001b[39;49m\u001b[38;5;241;43m.\u001b[39;49m\u001b[43mask_module\u001b[49m\u001b[43m(\u001b[49m\u001b[43mi\u001b[49m\u001b[43m,\u001b[49m\u001b[43m \u001b[49m\u001b[38;5;124;43m'\u001b[39;49m\u001b[38;5;124;43mVOLT?\u001b[39;49m\u001b[38;5;124;43m'\u001b[39;49m\u001b[43m)\u001b[49m)\n",
      "File \u001b[1;32mc:\\Users\\coher\\Documents\\GitHub\\QuantumDotControl\\.venv\\lib\\site-packages\\qcodes_contrib_drivers\\drivers\\StanfordResearchSystems\\SIM928.py:130\u001b[0m, in \u001b[0;36mSIM928.ask_module\u001b[1;34m(self, i, cmd)\u001b[0m\n\u001b[0;32m    126\u001b[0m msg \u001b[38;5;241m=\u001b[39m \u001b[38;5;28mself\u001b[39m\u001b[38;5;241m.\u001b[39mask(msg)\n\u001b[0;32m    127\u001b[0m \u001b[38;5;66;03m# first read consumes the terminator of the message from the submodule,\u001b[39;00m\n\u001b[0;32m    128\u001b[0m \u001b[38;5;66;03m# so we have a terminator from the message to us still in the input\u001b[39;00m\n\u001b[0;32m    129\u001b[0m \u001b[38;5;66;03m# buffer.\u001b[39;00m\n\u001b[1;32m--> 130\u001b[0m \u001b[38;5;28;43mself\u001b[39;49m\u001b[38;5;241;43m.\u001b[39;49m\u001b[43mvisa_handle\u001b[49m\u001b[38;5;241;43m.\u001b[39;49m\u001b[43mread\u001b[49m\u001b[43m(\u001b[49m\u001b[43m)\u001b[49m\n\u001b[0;32m    132\u001b[0m \u001b[38;5;28;01mif\u001b[39;00m msg[:\u001b[38;5;241m2\u001b[39m] \u001b[38;5;241m!=\u001b[39m \u001b[38;5;124m'\u001b[39m\u001b[38;5;124m#3\u001b[39m\u001b[38;5;124m'\u001b[39m:\n\u001b[0;32m    133\u001b[0m     \u001b[38;5;28;01mraise\u001b[39;00m \u001b[38;5;167;01mRuntimeError\u001b[39;00m(\u001b[38;5;124m'\u001b[39m\u001b[38;5;124mUnexpected format of answer: \u001b[39m\u001b[38;5;132;01m{}\u001b[39;00m\u001b[38;5;124m'\u001b[39m\u001b[38;5;241m.\u001b[39mformat(msg))\n",
      "File \u001b[1;32mc:\\Users\\coher\\Documents\\GitHub\\QuantumDotControl\\.venv\\lib\\site-packages\\pyvisa\\resources\\messagebased.py:485\u001b[0m, in \u001b[0;36mMessageBasedResource.read\u001b[1;34m(self, termination, encoding)\u001b[0m\n\u001b[0;32m    483\u001b[0m \u001b[38;5;28;01mif\u001b[39;00m termination \u001b[38;5;129;01mis\u001b[39;00m \u001b[38;5;28;01mNone\u001b[39;00m:\n\u001b[0;32m    484\u001b[0m     termination \u001b[38;5;241m=\u001b[39m \u001b[38;5;28mself\u001b[39m\u001b[38;5;241m.\u001b[39m_read_termination\n\u001b[1;32m--> 485\u001b[0m     message \u001b[38;5;241m=\u001b[39m \u001b[38;5;28;43mself\u001b[39;49m\u001b[38;5;241;43m.\u001b[39;49m\u001b[43m_read_raw\u001b[49m\u001b[43m(\u001b[49m\u001b[43m)\u001b[49m\u001b[38;5;241m.\u001b[39mdecode(enco)\n\u001b[0;32m    486\u001b[0m \u001b[38;5;28;01melse\u001b[39;00m:\n\u001b[0;32m    487\u001b[0m     \u001b[38;5;28;01mwith\u001b[39;00m \u001b[38;5;28mself\u001b[39m\u001b[38;5;241m.\u001b[39mread_termination_context(termination):\n",
      "File \u001b[1;32mc:\\Users\\coher\\Documents\\GitHub\\QuantumDotControl\\.venv\\lib\\site-packages\\pyvisa\\resources\\messagebased.py:441\u001b[0m, in \u001b[0;36mMessageBasedResource._read_raw\u001b[1;34m(self, size)\u001b[0m\n\u001b[0;32m    434\u001b[0m     \u001b[38;5;28;01mwhile\u001b[39;00m status \u001b[38;5;241m==\u001b[39m loop_status:\n\u001b[0;32m    435\u001b[0m         logger\u001b[38;5;241m.\u001b[39mdebug(\n\u001b[0;32m    436\u001b[0m             \u001b[38;5;124m\"\u001b[39m\u001b[38;5;132;01m%s\u001b[39;00m\u001b[38;5;124m - reading \u001b[39m\u001b[38;5;132;01m%d\u001b[39;00m\u001b[38;5;124m bytes (last status \u001b[39m\u001b[38;5;132;01m%r\u001b[39;00m\u001b[38;5;124m)\u001b[39m\u001b[38;5;124m\"\u001b[39m,\n\u001b[0;32m    437\u001b[0m             \u001b[38;5;28mself\u001b[39m\u001b[38;5;241m.\u001b[39m_resource_name,\n\u001b[0;32m    438\u001b[0m             size,\n\u001b[0;32m    439\u001b[0m             status,\n\u001b[0;32m    440\u001b[0m         )\n\u001b[1;32m--> 441\u001b[0m         chunk, status \u001b[38;5;241m=\u001b[39m \u001b[38;5;28;43mself\u001b[39;49m\u001b[38;5;241;43m.\u001b[39;49m\u001b[43mvisalib\u001b[49m\u001b[38;5;241;43m.\u001b[39;49m\u001b[43mread\u001b[49m\u001b[43m(\u001b[49m\u001b[38;5;28;43mself\u001b[39;49m\u001b[38;5;241;43m.\u001b[39;49m\u001b[43msession\u001b[49m\u001b[43m,\u001b[49m\u001b[43m \u001b[49m\u001b[43msize\u001b[49m\u001b[43m)\u001b[49m\n\u001b[0;32m    442\u001b[0m         ret\u001b[38;5;241m.\u001b[39mextend(chunk)\n\u001b[0;32m    443\u001b[0m \u001b[38;5;28;01mexcept\u001b[39;00m errors\u001b[38;5;241m.\u001b[39mVisaIOError \u001b[38;5;28;01mas\u001b[39;00m e:\n",
      "File \u001b[1;32mc:\\Users\\coher\\Documents\\GitHub\\QuantumDotControl\\.venv\\lib\\site-packages\\pyvisa\\ctwrapper\\functions.py:2336\u001b[0m, in \u001b[0;36mread\u001b[1;34m(library, session, count)\u001b[0m\n\u001b[0;32m   2334\u001b[0m buffer \u001b[38;5;241m=\u001b[39m create_string_buffer(count)\n\u001b[0;32m   2335\u001b[0m return_count \u001b[38;5;241m=\u001b[39m ViUInt32()\n\u001b[1;32m-> 2336\u001b[0m ret \u001b[38;5;241m=\u001b[39m \u001b[43mlibrary\u001b[49m\u001b[38;5;241;43m.\u001b[39;49m\u001b[43mviRead\u001b[49m\u001b[43m(\u001b[49m\u001b[43msession\u001b[49m\u001b[43m,\u001b[49m\u001b[43m \u001b[49m\u001b[43mbuffer\u001b[49m\u001b[43m,\u001b[49m\u001b[43m \u001b[49m\u001b[43mcount\u001b[49m\u001b[43m,\u001b[49m\u001b[43m \u001b[49m\u001b[43mbyref\u001b[49m\u001b[43m(\u001b[49m\u001b[43mreturn_count\u001b[49m\u001b[43m)\u001b[49m\u001b[43m)\u001b[49m\n\u001b[0;32m   2337\u001b[0m \u001b[38;5;28;01mreturn\u001b[39;00m buffer\u001b[38;5;241m.\u001b[39mraw[: return_count\u001b[38;5;241m.\u001b[39mvalue], ret\n",
      "File \u001b[1;32mc:\\Users\\coher\\Documents\\GitHub\\QuantumDotControl\\.venv\\lib\\site-packages\\pyvisa\\ctwrapper\\highlevel.py:226\u001b[0m, in \u001b[0;36mIVIVisaLibrary._return_handler\u001b[1;34m(self, ret_value, func, arguments)\u001b[0m\n\u001b[0;32m    223\u001b[0m         \u001b[38;5;66;03m# Set session back to a safe value\u001b[39;00m\n\u001b[0;32m    224\u001b[0m         session \u001b[38;5;241m=\u001b[39m \u001b[38;5;28;01mNone\u001b[39;00m\n\u001b[1;32m--> 226\u001b[0m \u001b[38;5;28;01mreturn\u001b[39;00m \u001b[38;5;28;43mself\u001b[39;49m\u001b[38;5;241;43m.\u001b[39;49m\u001b[43mhandle_return_value\u001b[49m\u001b[43m(\u001b[49m\u001b[43msession\u001b[49m\u001b[43m,\u001b[49m\u001b[43m \u001b[49m\u001b[43mret_value\u001b[49m\u001b[43m)\u001b[49m\n",
      "File \u001b[1;32mc:\\Users\\coher\\Documents\\GitHub\\QuantumDotControl\\.venv\\lib\\site-packages\\pyvisa\\highlevel.py:251\u001b[0m, in \u001b[0;36mVisaLibraryBase.handle_return_value\u001b[1;34m(self, session, status_code)\u001b[0m\n\u001b[0;32m    248\u001b[0m     \u001b[38;5;28mself\u001b[39m\u001b[38;5;241m.\u001b[39m_last_status_in_session[session] \u001b[38;5;241m=\u001b[39m rv\n\u001b[0;32m    250\u001b[0m \u001b[38;5;28;01mif\u001b[39;00m rv \u001b[38;5;241m<\u001b[39m \u001b[38;5;241m0\u001b[39m:\n\u001b[1;32m--> 251\u001b[0m     \u001b[38;5;28;01mraise\u001b[39;00m errors\u001b[38;5;241m.\u001b[39mVisaIOError(rv)\n\u001b[0;32m    253\u001b[0m \u001b[38;5;28;01mif\u001b[39;00m rv \u001b[38;5;129;01min\u001b[39;00m \u001b[38;5;28mself\u001b[39m\u001b[38;5;241m.\u001b[39missue_warning_on:\n\u001b[0;32m    254\u001b[0m     \u001b[38;5;28;01mif\u001b[39;00m session \u001b[38;5;129;01mand\u001b[39;00m rv \u001b[38;5;129;01mnot\u001b[39;00m \u001b[38;5;129;01min\u001b[39;00m \u001b[38;5;28mself\u001b[39m\u001b[38;5;241m.\u001b[39m_ignore_warning_in_session[session]:\n",
      "\u001b[1;31mVisaIOError\u001b[0m: ('VI_ERROR_TMO (-1073807339): Timeout expired before operation completed.', 'getting sim900_volt_RB')"
     ]
    },
    {
     "data": {
      "image/png": "[encoded data removed]",
      "text/plain": [
       "<Figure size 640x480 with 1 Axes>"
      ]
     },
     "metadata": {},
     "output_type": "display_data"
    }
   ],
   "source": [
    "def fit_data():\n",
    "    dataset = qcodes.load_last_experiment().last_data_set()\n",
    "    df = dataset.to_pandas_dataframe().reset_index()\n",
    "    print(df)\n",
    "    df_current = df.copy()\n",
    "    df_current = df_current.rename(columns={'agilent_volt': 'agilent_current'})\n",
    "    df_current.iloc[:,-1] = df_current.iloc[:,-1].mul(sensitivity).subtract(IBias) # sensitivity\n",
    "\n",
    "    axes = df_current.plot.scatter(y='agilent_current', x='sim900_volt_LB', linewidth=1, s=20, label=r'$I$')\n",
    "    axes.set_ylabel(r'$I$ (A)')\n",
    "    axes.set_xlabel(r'$V_{GATES}$ (V)')\n",
    "    axes.set_title('Global Turn-On')\n",
    "\n",
    "    mask = df_current['agilent_current'] > min_current_threshold # arbitrary current value, change if needed\n",
    "    X_thres = df_current['sim900_volt_LB'][mask]\n",
    "    Y_thres = df_current['agilent_current'][mask]\n",
    "\n",
    "    guess = (-max(Y_thres), 0.5, min(X_thres), max(Y_thres))\n",
    "    \n",
    "    fit_params, fit_cov = scipy.optimize.curve_fit(exp_fit, X_thres, Y_thres, guess)\n",
    "    a, b, x0, y0 = fit_params\n",
    "\n",
    "    plt.plot(X_thres, exp_fit(X_thres, a,b,x0,y0), 'r-', label='Fit')\n",
    "\n",
    "    V_turn_on =  round(np.log(-y0/a)/b + x0,3)\n",
    "    V_sat = df_current['sim900_volt_LB'].iloc[-1]\n",
    "    \n",
    "    print(\"Turn on: \", V_turn_on, \"V\")\n",
    "    print(\"Saturation Voltage: \", V_sat, \"V\")\n",
    "    axes.axvline(x=V_turn_on, alpha=0.5, linestyle=':',label=r'$V_{TURNON}$')\n",
    "    axes.axvline(x=V_sat,alpha=0.5, linestyle='--',label=r'$V_{SAT}$')\n",
    "\n",
    "    plt.legend(loc='best')\n",
    "    print(\"Global Turn On Distance: \", V_sat - V_turn_on, \"V\")\n",
    "\n",
    "    device_info['Turn On'] = V_turn_on\n",
    "    device_info['Saturation'] = V_sat\n",
    "    device_info['Turn On Distance'] = round(V_sat - V_turn_on, 3)\n",
    "\n",
    "def max_current():\n",
    "    I = sensitivity * station.agilent.volt() - IBias\n",
    "\n",
    "    I_threshold = max_current_threshold # A\n",
    "    return np.abs(I) > I_threshold\n",
    "\n",
    "station.sim900.set_smooth({\n",
    "    'LB': 0,\n",
    "    'RB': 0,\n",
    "    'STR':0\n",
    "})\n",
    "\n",
    "max_V = -1.4 # V\n",
    "# N = int((np.abs(max_V) / 1e-3) + 1)\n",
    "N = int(np.abs(max_V) / 0.01) + 1\n",
    "\n",
    "# sweep_STL = LinSweep(station.sim900.volt_STL, 0, max_V, N, 0.01, get_after_set=True)\n",
    "sweep_LB = LinSweep(station.sim900.volt_LB, 0, max_V, N, 0.01, get_after_set=True)\n",
    "# sweep_P = LinSweep(station.sim900.volt_P, 0, max_V, N, 0.01, get_after_set=True)\n",
    "sweep_RB = LinSweep(station.sim900.volt_RB, 0, max_V, N, 0.01, get_after_set=True)\n",
    "sweep_STR = LinSweep(station.sim900.volt_STR, 0, max_V, N, 0.01, get_after_set=True)\n",
    "\n",
    "# order of sweep matters\n",
    "gate_sweeps = [\n",
    "    # sweep_STL,\n",
    "    sweep_STR,\n",
    "    sweep_LB, \n",
    "    # sweep_P, \n",
    "    sweep_RB, \n",
    "\n",
    "]\n",
    "\n",
    "global_turn_on,_,_ = dond(\n",
    "    TogetherSweep(\n",
    "        *gate_sweeps\n",
    "    ), \n",
    "    station.agilent.volt, \n",
    "    break_condition=max_current,\n",
    "    exit_actions=[fit_data],\n",
    "    measurement_name='Global Turn On',\n",
    "    exp=initialization_exp,\n",
    ") # Return A tuple of QCoDeS DataSet, Matplotlib axis, Matplotlib colorbar."
   ]
  },
  {
   "cell_type": "code",
   "execution_count": 15,
   "metadata": {},
   "outputs": [
    {
     "data": {
      "text/plain": [
       "{'Turn On': -0.39,\n",
       " 'Saturation': -1.19,\n",
       " 'Turn On Distance': -0.7999999999999999}"
      ]
     },
     "execution_count": 15,
     "metadata": {},
     "output_type": "execute_result"
    }
   ],
   "source": [
    "print(device_info)\n",
    "device_info['LB'] = {}\n",
    "device_info['RB'] = {}\n",
    "device_info['STL'] = {}"
   ]
  },
  {
   "cell_type": "code",
   "execution_count": 16,
   "metadata": {},
   "outputs": [],
   "source": [
    "station.sim900.set_smooth({\n",
    "    'LB': device_info['Saturation'],\n",
    "    'RB': device_info['Saturation'],\n",
    "    'STR': device_info['Saturation']\n",
    "})\n"
   ]
  },
  {
   "cell_type": "markdown",
   "metadata": {},
   "source": [
    "## 2. Individual Pinch-Offs"
   ]
  },
  {
   "cell_type": "code",
   "execution_count": 21,
   "metadata": {},
   "outputs": [
    {
     "name": "stdout",
     "output_type": "stream",
     "text": [
      "Pinching off RB\n",
      "Starting experimental run with id: 18. Using 'qcodes.dataset.dond'\n",
      "Fit function: sigmoid_fit\n",
      "Width of sigmoid: -1.088 mV\n"
     ]
    },
    {
     "data": {
      "image/png": "[encoded data removed]",
      "text/plain": [
       "<Figure size 640x480 with 1 Axes>"
      ]
     },
     "metadata": {},
     "output_type": "display_data"
    }
   ],
   "source": [
    "max_V = device_info['Saturation']\n",
    "min_V = device_info['Turn On']\n",
    "\n",
    "# sweep_STL = LinSweep(station.sim900.volt_STL, max_V, 0, N, 0.01, get_after_set=True)\n",
    "sweep_LB = LinSweep(station.sim900.volt_LB, max_V, min_V, N, 0.01, get_after_set=True)\n",
    "# sweep_P = LinSweep(station.sim900.volt_P, max_V, 0, N, 0.01, get_after_set=True)\n",
    "sweep_RB = LinSweep(station.sim900.volt_RB, max_V, min_V, N, 0.01, get_after_set=True)\n",
    "sweep_STR = LinSweep(station.sim900.volt_STR, max_V, min_V, N, 0.01, get_after_set=True)\n",
    "\n",
    "gate_sweeps = [\n",
    "    # sweep_STL,\n",
    "    # sweep_LB, \n",
    "    # sweep_P, \n",
    "    # sweep_STR,\n",
    "    sweep_RB,\n",
    "]\n",
    "\n",
    "def fit_data():\n",
    "\n",
    "    dataset = qcodes.load_last_experiment().last_data_set()\n",
    "    df = dataset.to_pandas_dataframe().reset_index()\n",
    "\n",
    "    df_current = df.copy()\n",
    "    df_current = df_current.rename(columns={'agilent_volt': 'agilent_current'})\n",
    "    df_current.iloc[:,-1] = df_current.iloc[:,-1].mul(sensitivity).subtract(IBias) # sensitivity\n",
    "\n",
    "    axes = df_current.plot.scatter(y='agilent_current', x=f'{str(sweep._param)}', linewidth=1, s=20, label=r'$I$')\n",
    "    axes.axhline(y=0, color='k', alpha=0.25, linestyle='--')\n",
    "    axes.axvline(x=0, color='k', alpha=0.25, linestyle='--')\n",
    "    axes.set_ylabel(r'$I$ (A)')\n",
    "    axes.set_xlabel(r'$V_{{{gate}}}$ (V)'.format(gate=str(sweep._param).split('_')[-1]))\n",
    "    axes.set_title('Pinch Off')\n",
    "\n",
    "    X = df_current[f'{str(sweep._param)}']\n",
    "    Y = df_current['agilent_current']\n",
    "\n",
    "    guess = (-5e-9,-100,device_info['Turn On'],5e-9)\n",
    "\n",
    "    fit_params, fit_cov = scipy.optimize.curve_fit(sigmoid_fit, X, Y, guess)\n",
    "    a, b, x0, y0 = fit_params\n",
    "\n",
    "    plt.plot(X, sigmoid_fit(X, a,b,x0,y0), 'r-', label='Fit')\n",
    "\n",
    "    print(f\"Fit function: {sigmoid_fit.__name__}\")\n",
    "    print(f\"Width of sigmoid: {round(2 * np.sqrt(8) / b,3)} V\")\n",
    "    axes.axvline(x=x0 - np.sqrt(8) / b, alpha=0.5, linestyle='--')\n",
    "    axes.axvline(x=x0 + np.sqrt(8) / b,alpha=0.5, linestyle='--')\n",
    "\n",
    "    device_info[str(sweep._param).split('_')[-1]]['Pinch Off'] = min(\n",
    "        np.abs(x0 - np.sqrt(8) / b),\n",
    "        np.abs(x0 + np.sqrt(8) / b)\n",
    "    )\n",
    "    device_info[str(sweep._param).split('_')[-1]]['Width'] = round(2 * np.sqrt(8) / b,3) #V\n",
    "\n",
    "def min_current():\n",
    "    I = sensitivity * station.agilent.volt()\n",
    "\n",
    "    I_threshold = min_current_threshold / 10# A\n",
    "    if np.abs(I) < I_threshold:\n",
    "        # Device has pinched-off\n",
    "        return True\n",
    "    \n",
    "for sweep in (gate_sweeps):\n",
    "    print(f\"Pinching off {str(sweep._param).split('_')[-1]}\")\n",
    "    pinch_off = dond(\n",
    "        sweep,\n",
    "        station.agilent.volt, \n",
    "        # do_plot=True, \n",
    "        # show_progress=True, \n",
    "        # use_threads=False,\n",
    "        break_condition=min_current,\n",
    "        exit_actions=[fit_data],\n",
    "        measurement_name='{} Pinch Off'.format(str(sweep._param).split('_')[-1]),\n",
    "        exp=initialization_exp\n",
    "    )\n",
    "    station.sim900.set_smooth({str(sweep._param).split('_')[-1]: max_V})"
   ]
  },
  {
   "cell_type": "markdown",
   "metadata": {},
   "source": [
    "## 3. Barrier Barrier Sweep"
   ]
  },
  {
   "cell_type": "code",
   "execution_count": null,
   "metadata": {},
   "outputs": [],
   "source": [
    "station.sim900.set_smooth({'volt_STL': device_info['STL']['Pinch Off']})\n",
    "station.sim900.set_smooth({'volt_P': device_info['P']['Pinch Off']})\n",
    "station.sim900.set_smooth({'volt_STR': device_info['STR']['Pinch Off']})\n",
    "\n",
    "N = 20\n",
    "sweep_LB = LinSweep(station.sim900.volt_LB, device_info['LB']['Pinch Off'], device_info['LB']['Width'], N, 0.01, get_after_set=True)\n",
    "sweep_RB = LinSweep(station.sim900.volt_RB, device_info['RB']['Pinch Off'], device_info['RB']['Width'], N, 0.01, get_after_set=True)\n",
    "\n",
    "def inference_model():\n",
    "    # Once BB sweep has been completed, inference the CSD model to extract whether there are any single dot locations\n",
    "    # of high enough accuracy\n",
    "    print(\"Done first sweep\")\n",
    "\n",
    "BB_sweep = dond(\n",
    "    sweep_LB,\n",
    "    sweep_RB,\n",
    "    station.agilent.volt, \n",
    "    # do_plot=True, \n",
    "    # show_progress=True, \n",
    "    # use_threads=True,\n",
    "    exit_actions=[inference_model],\n",
    "    measurement_name='Barrier Barrier Sweep',\n",
    "    exp=initialization_exp\n",
    ")"
   ]
  },
  {
   "cell_type": "markdown",
   "metadata": {},
   "source": [
    "## 4. Coulomb Diamonds"
   ]
  },
  {
   "cell_type": "code",
   "execution_count": null,
   "metadata": {},
   "outputs": [],
   "source": [
    "station.sim900.set_smooth({'volt_STL': device_info['STL']['Pinch Off']})\n",
    "station.sim900.set_smooth({'volt_STR': device_info['STR']['Pinch Off']})\n",
    "station.sim900.set_smooth({'volt_LB': device_info['LB']['Pinch Off']})\n",
    "station.sim900.set_smooth({'volt_RB': device_info['RB']['Pinch Off']})\n",
    "\n",
    "sweep_P = LinSweep(station.sim900.volt_P, 0, device_info['Saturation'], N, 0.01, get_after_set=True)\n",
    "sweep_S = LinSweep(station.sim900.volt_P, -VBias, VBias, 0.01, get_after_set=True)\n",
    "\n",
    "BB_sweep = dond(\n",
    "    sweep_P,\n",
    "    sweep_S,\n",
    "    station.agilent.volt, \n",
    "    # do_plot=True, \n",
    "    # show_progress=True, \n",
    "    # use_threads=True,\n",
    "    measurement_name='Coulomb Diamonds',\n",
    "    exp=initialization_exp\n",
    ")"
   ]
  },
  {
   "cell_type": "markdown",
   "metadata": {},
   "source": [
    "## 5. Reset Device Voltages"
   ]
  },
  {
   "cell_type": "code",
   "execution_count": null,
   "metadata": {},
   "outputs": [],
   "source": [
    "station.sim900.set_smooth({\n",
    "    'S': 0,\n",
    "    'STL': 0,\n",
    "    'LB': 0,\n",
    "    'P': 0,\n",
    "    'RB': 0,\n",
    "    'STR':0\n",
    "})"
   ]
  }
 ],
 "metadata": {
  "kernelspec": {
   "display_name": "Python 3",
   "language": "python",
   "name": "python3"
  },
  "language_info": {
   "codemirror_mode": {
    "name": "ipython",
    "version": 3
   },
   "file_extension": ".py",
   "mimetype": "text/x-python",
   "name": "python",
   "nbconvert_exporter": "python",
   "pygments_lexer": "ipython3",
   "version": "3.10.9"
  }
 },
 "nbformat": 4,
 "nbformat_minor": 2
}
