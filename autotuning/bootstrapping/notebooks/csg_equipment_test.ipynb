{
 "cells": [
  {
   "cell_type": "code",
   "execution_count": 1,
   "metadata": {},
   "outputs": [],
   "source": [
    "import os\n",
    "from pathlib import Path\n",
    "\n",
    "import qcodes\n",
    "from qcodes.dataset import (\n",
    "    LinSweep,\n",
    "    TogetherSweep,\n",
    "    do1d,\n",
    "    do2d,\n",
    "    dond,\n",
    "    Measurement,\n",
    "    load_or_create_experiment,\n",
    "    plot_dataset,\n",
    "    initialise_or_create_database_at\n",
    ")\n",
    "\n",
    "import numpy as np\n",
    "\n",
    "import scipy\n",
    "\n",
    "import time\n",
    "\n",
    "import matplotlib.pyplot as plt"
   ]
  },
  {
   "cell_type": "markdown",
   "metadata": {},
   "source": [
    "## Measuring Current Pre-Amp Bias"
   ]
  },
  {
   "cell_type": "code",
   "execution_count": 2,
   "metadata": {},
   "outputs": [
    {
     "name": "stdout",
     "output_type": "stream",
     "text": [
      "Connected to: Stanford_Research_Systems SIM900 (serial:s/n130900, firmware:ver3.6) in 1.84s\n",
      "Connected to: HEWLETT-PACKARD 34401A (serial:0, firmware:11-5-3) in 0.06s\n"
     ]
    },
    {
     "data": {
      "text/plain": [
       "<Agilent34401A: agilent>"
      ]
     },
     "execution_count": 2,
     "metadata": {},
     "output_type": "execute_result"
    }
   ],
   "source": [
    "# Load in Station\n",
    "station = qcodes.Station(config_file='../station_config.yml')\n",
    "station.load_instrument('sim900')\n",
    "station.load_instrument('agilent')"
   ]
  },
  {
   "cell_type": "code",
   "execution_count": null,
   "metadata": {},
   "outputs": [],
   "source": [
    "preamp_bias_exp = load_or_create_experiment('Current PreAmp-2 Bias Experiment', sample_name='10MOhm Resistor')"
   ]
  },
  {
   "cell_type": "code",
   "execution_count": null,
   "metadata": {},
   "outputs": [],
   "source": [
    "VI_sweep = Measurement(exp=preamp_bias_exp)"
   ]
  },
  {
   "cell_type": "code",
   "execution_count": null,
   "metadata": {},
   "outputs": [],
   "source": [
    "# Record independent variable\n",
    "VI_sweep.register_parameter(station.sim900.volt_1)\n",
    "# Record dependent variable (setpoints implies dependency)\n",
    "VI_sweep.register_parameter(station.agilent.volt, setpoints=[station.sim900.volt_1])\n",
    "\n",
    "dV = 1e-3 # min resolution\n",
    "volt_min, volt_max = -10e-3, 10e-3\n",
    "voltage_sweep = np.arange(volt_min, volt_max, dV) # sweep values\n",
    "station.sim900.set_smooth({1: volt_min}) # smoothly ramp to start point\n",
    "\n",
    "with VI_sweep.run() as datasaver:\n",
    "    for voltage in voltage_sweep:\n",
    "        station.sim900.volt_1.set(voltage) # set voltage (mV)\n",
    "        datasaver.add_result(\n",
    "            (station.sim900.volt_1, station.sim900.volt_1()),\n",
    "            (station.agilent.volt, station.agilent.volt())\n",
    "            ) # record measurement\n",
    "        \n",
    "station.sim900.set_smooth({1: 0}) # smoothly ramp to 0V after measurement\n",
    "dataset = datasaver.dataset"
   ]
  },
  {
   "cell_type": "code",
   "execution_count": null,
   "metadata": {},
   "outputs": [],
   "source": [
    "df = dataset.to_pandas_dataframe().reset_index()\n",
    "\n",
    "df_current = df.copy()\n",
    "df_current = df_current.rename(columns={'agilent_volt': 'agilent_current'})\n",
    "df_current.iloc[:,1] = df_current.iloc[:,1].mul(-1e-6) # sensitivity\n",
    "\n",
    "V = df_current['sim900_volt_1'] # V\n",
    "I = df_current['agilent_current'] # A\n",
    "\n",
    "def linear(x, m, b):\n",
    "    return m * x + b\n",
    "\n",
    "fit_params, pcov = scipy.optimize.curve_fit(linear, xdata=V, ydata=I, p0=(1, 0))\n",
    "\n",
    "G, IBias = fit_params\n",
    "\n",
    "R = 1/G\n",
    "\n",
    "print(\"Resistance is {:3f} M\\u03A9\".format(R/1e6))\n",
    "print(\"Y-Intercept is (0 mV, {:3f} nA)\".format(IBias/1e-9))\n",
    "print(\"X-Intercept is ({:3f} mV, 0 nA)\".format((-IBias/G) / 1e-3))\n",
    "\n",
    "axes = df_current.plot.scatter(y='agilent_current', x='sim900_volt_1', linewidth=1, s=20, label=r'$I_{\\text{RAW}}$')\n",
    "axes.axhline(y=0, color='k', alpha=0.25, linestyle='--')\n",
    "axes.axvline(x=0, color='k', alpha=0.25, linestyle='--')\n",
    "axes.scatter([0],[IBias], s=45, marker='x', c='r', label='Current Bias: {:.3f} nA'.format(IBias/1e-9))\n",
    "axes.set_ylabel(r'$I$ (A)')\n",
    "axes.set_xlabel(r'$V_{\\text{SIM900}}$ (V)')\n",
    "axes.set_title('CSG Current PreAmp-2 Bias')\n",
    "\n",
    "df_current_nobias = df_current.copy()\n",
    "# subtract the bias\n",
    "df_current_nobias.iloc[:,1] = df_current_nobias.iloc[:,1].subtract(IBias)\n",
    "axes.scatter(df_current_nobias['sim900_volt_1'], df_current_nobias['agilent_current'], color='k', s=20, label=r'$I_{\\text{CORRECTED}}$')\n",
    "axes.legend(loc='best')"
   ]
  },
  {
   "cell_type": "markdown",
   "metadata": {},
   "source": [
    "## 0. Set-up the Dataset"
   ]
  },
  {
   "cell_type": "code",
   "execution_count": null,
   "metadata": {},
   "outputs": [],
   "source": [
    "def exp_fit(x, a, b, x0, y0):\n",
    "    return a * np.exp(b * (x-x0)) + y0\n",
    "\n",
    "def sigmoid_fit(x, a, b, x0, y0):\n",
    "    return a/(1+np.exp(b * (x-x0))) + y0"
   ]
  },
  {
   "cell_type": "code",
   "execution_count": null,
   "metadata": {},
   "outputs": [],
   "source": [
    "initialization_db_path = os.path.join(os.getcwd(), 'initialization.db')\n",
    "initialise_or_create_database_at(initialization_db_path)\n",
    "initialization_exp = load_or_create_experiment('Initialization Experiment', sample_name='SHT')"
   ]
  },
  {
   "cell_type": "code",
   "execution_count": 3,
   "metadata": {},
   "outputs": [
    {
     "name": "stdout",
     "output_type": "stream",
     "text": [
      "sim900:\n",
      "\tparameter      value\n",
      "--------------------------------------------------------------------------------\n",
      "IDN             :\t{'vendor': 'Stanford_Research_Systems', 'model': 'SIM900', ...\n",
      "IDN_7           :\t{'vendor': 'Stanford_Research_Systems', 'model': 'SIM928', ...\n",
      "IDN_8           :\t{'vendor': 'Stanford_Research_Systems', 'model': 'SIM928', ...\n",
      "IDN_LB          :\t{'vendor': 'Stanford_Research_Systems', 'model': 'SIM928', ...\n",
      "IDN_P           :\t{'vendor': 'Stanford_Research_Systems', 'model': 'SIM928', ...\n",
      "IDN_RB          :\t{'vendor': 'Stanford_Research_Systems', 'model': 'SIM928', ...\n",
      "IDN_S           :\t{'vendor': 'Stanford_Research_Systems', 'model': 'SIM928', ...\n",
      "IDN_STL         :\t{'vendor': 'Stanford_Research_Systems', 'model': 'SIM928', ...\n",
      "IDN_STR         :\t{'vendor': 'Stanford_Research_Systems', 'model': 'SIM928', ...\n",
      "smooth_timestep :\t1 (s)\n",
      "timeout         :\t10 (s)\n",
      "volt_7          :\t0 (V)\n",
      "volt_7_step     :\t0.005 (V)\n",
      "volt_8          :\t0 (V)\n",
      "volt_8_step     :\t0.005 (V)\n",
      "volt_LB         :\t0 (V)\n",
      "volt_LB_step    :\t0.001 (V)\n",
      "volt_P          :\t0 (V)\n",
      "volt_P_step     :\t0.001 (V)\n",
      "volt_RB         :\t0 (V)\n",
      "volt_RB_step    :\t0.001 (V)\n",
      "volt_S          :\t0 (V)\n",
      "volt_STL        :\t0 (V)\n",
      "volt_STL_step   :\t0.001 (V)\n",
      "volt_STR        :\t0 (V)\n",
      "volt_STR_step   :\t0.001 (V)\n",
      "volt_S_step     :\t0.001 (V)\n"
     ]
    }
   ],
   "source": [
    "station.sim900.set_smooth({\n",
    "    'S': 0,\n",
    "    'STL': 0,\n",
    "    'LB': 0,\n",
    "    'P': 0,\n",
    "    'RB': 0,\n",
    "    'STR':0\n",
    "})\n",
    "station.sim900.print_readable_snapshot()"
   ]
  },
  {
   "cell_type": "markdown",
   "metadata": {},
   "source": [
    "## 1. Global Turn On"
   ]
  },
  {
   "cell_type": "code",
   "execution_count": null,
   "metadata": {},
   "outputs": [],
   "source": [
    "# Bias the device\n",
    "sensitivity = 1e-6 # A/V\n",
    "VBias = 10e-3 # V\n",
    "\n",
    "station.sim900.set_smooth({'S': VBias})\n",
    "\n",
    "time.sleep(1)\n",
    "\n",
    "def fit_data():\n",
    "    dataset =  None #get last dataset?\n",
    "    \n",
    "    df = dataset.to_pandas_dataframe().reset_index()\n",
    "    print(df)\n",
    "    df_current = df.copy()\n",
    "    df_current = df_current.rename(columns={'agilent_volt': 'agilent_current'})\n",
    "    df_current.iloc[:,-1] = df_current.iloc[:,-1].mul(-1e-6).subtract(IBias) # sensitivity\n",
    "\n",
    "    axes = df_current.plot.scatter(y='agilent_current', x='sim900_volt_STL', linewidth=1, s=20, label=r'$I$')\n",
    "    axes.axhline(y=0, color='k', alpha=0.25, linestyle='--')\n",
    "    axes.axvline(x=0, color='k', alpha=0.25, linestyle='--')\n",
    "    axes.set_ylabel(r'$I$ (A)')\n",
    "    axes.set_xlabel(r'$V_{\\text{All Gates}}$ (V)')\n",
    "    axes.set_title('Global Turn-On')\n",
    "\n",
    "    mask = df_current['agilent_current'] > 1e-11 # arbitrary current value, change if needed\n",
    "    X_thres = df_current['sim900_volt_STL'][mask]\n",
    "    Y_thres = df_current['agilent_current'][mask]\n",
    "    guess = (-max(Y_thres), -1, min(X_thres), max(Y_thres))\n",
    "    fit_params, fit_cov = scipy.optimize.curve_fit(exp_fit, X_thres, Y_thres, guess)\n",
    "    a, b, x0, y0 = fit_params\n",
    "\n",
    "    plt.plot(X_thres, exp_fit(X_thres, a,b,x0,y0), 'r--', label='Fit')\n",
    "\n",
    "    print(f\"Fit function: {exp_fit.__name__}\")\n",
    "    print(f\"Fit parameter(s): a = {round(a,3)} A, b = {round(b,3)} 1/mV, (x0,y0)=({round(x0,3)} mV),{round(y0,3)} A)\")\n",
    "\n",
    "def max_current():\n",
    "    I = sensitivity * station.agilent.volt()\n",
    "\n",
    "    I_threshold = 1e-9\n",
    "    if np.abs(I) > I_threshold:\n",
    "        # Device has saturated\n",
    "        return True\n",
    "\n",
    "station.sim900.set_smooth({'STL': 0,\n",
    "                           'LB': 0,\n",
    "                           'P': 0,\n",
    "                           'RB': 0,\n",
    "                           'STR':0})\n",
    "\n",
    "time.sleep(1)\n",
    "\n",
    "max_V = 10e-3\n",
    "N = int((max_V / 1e-3) + 1)\n",
    "\n",
    "sweep_STL = LinSweep(station.sim900.volt_STL, 0, max_V, N, 0.01, get_after_set=True)\n",
    "sweep_LB = LinSweep(station.sim900.volt_LB, 0, max_V, N, 0.01, get_after_set=True)\n",
    "sweep_P = LinSweep(station.sim900.volt_P, 0, max_V, N, 0.01, get_after_set=True)\n",
    "sweep_RB = LinSweep(station.sim900.volt_RB, 0, max_V, N, 0.01, get_after_set=True)\n",
    "sweep_STR = LinSweep(station.sim900.volt_STR, 0, max_V, N, 0.01, get_after_set=True)\n",
    "\n",
    "gate_sweeps = [sweep_STL, sweep_LB, sweep_P, sweep_RB, sweep_STR]\n",
    "\n",
    "global_turn_on,_,_ = dond(\n",
    "    TogetherSweep(\n",
    "        *gate_sweeps\n",
    "    ), \n",
    "    station.agilent.volt, \n",
    "    # show_progress=True, \n",
    "    # use_threads=False,\n",
    "    break_condition=max_current,\n",
    "    exit_actions=[fit_data],\n",
    "    measurement_name='Global Turn On'\n",
    "    exp=initialization_exp,\n",
    ") # Return A tuple of QCoDeS DataSet, Matplotlib axis, Matplotlib colorbar.\n",
    "\n",
    "\n"
   ]
  },
  {
   "cell_type": "markdown",
   "metadata": {},
   "source": [
    "## 2. Individual Pinch-Offs"
   ]
  },
  {
   "cell_type": "code",
   "execution_count": null,
   "metadata": {},
   "outputs": [],
   "source": [
    "sweep_STL = LinSweep(station.sim900.volt_STL, max_V, 0, N, 0.01, get_after_set=True)\n",
    "sweep_LB = LinSweep(station.sim900.volt_LB, max_V, 0, N, 0.01, get_after_set=True)\n",
    "sweep_P = LinSweep(station.sim900.volt_P, max_V, 0, N, 0.01, get_after_set=True)\n",
    "sweep_RB = LinSweep(station.sim900.volt_RB, max_V, 0, N, 0.01, get_after_set=True)\n",
    "sweep_STR = LinSweep(station.sim900.volt_STR, max_V, 0, N, 0.01, get_after_set=True)\n",
    "\n",
    "gate_sweeps = [\n",
    "    sweep_STL,\n",
    "    sweep_LB, \n",
    "    sweep_P, \n",
    "    sweep_RB,\n",
    "    sweep_STR\n",
    "]\n",
    "\n",
    "def fit_data():\n",
    "\n",
    "    dataset =  None #get last dataset?\n",
    "    \n",
    "    df = dataset.to_pandas_dataframe().reset_index()\n",
    "    print(df)\n",
    "    df_current = df.copy()\n",
    "    df_current = df_current.rename(columns={'agilent_volt': 'agilent_current'})\n",
    "    df_current.iloc[:,-1] = df_current.iloc[:,-1].mul(-1e-6).subtract(IBias) # sensitivity\n",
    "\n",
    "    axes = df_current.plot.scatter(y='agilent_current', x='sim900_volt_STL', linewidth=1, s=20, label=r'$I$')\n",
    "    axes.axhline(y=0, color='k', alpha=0.25, linestyle='--')\n",
    "    axes.axvline(x=0, color='k', alpha=0.25, linestyle='--')\n",
    "    axes.set_ylabel(r'$I$ (A)')\n",
    "    axes.set_xlabel(r'$V_{\\text{All Gates}}$ (V)')\n",
    "    axes.set_title('Global Turn-On')\n",
    "\n",
    "    X = df_current['sim900_volt_STL']\n",
    "    Y = df_current['agilent_current']\n",
    "    guess = (1,0.2,1,0)\n",
    "    fit_params, fit_cov = scipy.optimize.curve_fit(sigmoid_fit, X, Y, guess)\n",
    "    a, b, x0, y0 = fit_params\n",
    "\n",
    "    plt.plot(X, sigmoid_fit(Y, a,b,x0,y0), 'r--', label='Fit')\n",
    "\n",
    "    print(f\"Fit function: {sigmoid_fit.__name__}\")\n",
    "    print(f\"Width of sigmoid: {round(np.sqrt(8)/b,3)} mV\")\n",
    "\n",
    "def min_current():\n",
    "    I = sensitivity * station.agilent.volt()\n",
    "\n",
    "    I_threshold = 1e-12# A\n",
    "    if np.abs(I) < I_threshold:\n",
    "        # Device has pinched-off\n",
    "        return True\n",
    "    \n",
    "import tqdm\n",
    "for sweep in tqdm.tqdm((gate_sweeps)):\n",
    "    pinch_off = dond(\n",
    "        sweep,\n",
    "        station.agilent.volt, \n",
    "        # do_plot=True, \n",
    "        # show_progress=True, \n",
    "        # use_threads=False,\n",
    "        break_condition=min_current,\n",
    "        # exit_actions=fit_data,\n",
    "        measurement_name='{} Pinch Off'.format(str(sweep._param).split('_')[-1]),\n",
    "        exp=initialization_exp\n",
    "    )\n",
    "    station.sim900.set_smooth({str(sweep._param).split('_')[-1]: max_V})\n",
    "    "
   ]
  },
  {
   "cell_type": "markdown",
   "metadata": {},
   "source": [
    "## 3. Barrier Barrier Sweep"
   ]
  },
  {
   "cell_type": "code",
   "execution_count": null,
   "metadata": {},
   "outputs": [],
   "source": [
    "pinch_off_V = 0e-3\n",
    "turn_on_V = 0e-3\n",
    "\n",
    "station.sim900.set_smooth({'volt_STL': pinch_off_V})\n",
    "station.sim900.set_smooth({'volt_P': pinch_off_V})\n",
    "station.sim900.set_smooth({'volt_STR': pinch_off_V})\n",
    "\n",
    "sweep_LB = LinSweep(station.sim900.volt_LB, pinch_off_V, turn_on_V, N, 0.01, get_after_set=True)\n",
    "sweep_RB = LinSweep(station.sim900.volt_RB, pinch_off_V, turn_on_V, N, 0.01, get_after_set=True)\n",
    "\n",
    "BB_sweep = dond(\n",
    "    sweep_LB,\n",
    "    sweep_RB,\n",
    "    station.agilent.volt, \n",
    "    # do_plot=True, \n",
    "    # show_progress=True, \n",
    "    # use_threads=True,\n",
    "    measurement_name='Barrier Barrier Sweep',\n",
    "    exp=initialization_exp\n",
    ")"
   ]
  },
  {
   "cell_type": "markdown",
   "metadata": {},
   "source": [
    "## 4. Coulomb Diamonds"
   ]
  },
  {
   "cell_type": "markdown",
   "metadata": {},
   "source": [
    "## 5. Reset Device Voltages"
   ]
  },
  {
   "cell_type": "code",
   "execution_count": null,
   "metadata": {},
   "outputs": [],
   "source": [
    "station.sim900.set_smooth({\n",
    "    'S': 0,\n",
    "    'STL': 0,\n",
    "    'LB': 0,\n",
    "    'P': 0,\n",
    "    'RB': 0,\n",
    "    'STR':0\n",
    "})"
   ]
  }
 ],
 "metadata": {
  "kernelspec": {
   "display_name": "Python 3",
   "language": "python",
   "name": "python3"
  },
  "language_info": {
   "codemirror_mode": {
    "name": "ipython",
    "version": 3
   },
   "file_extension": ".py",
   "mimetype": "text/x-python",
   "name": "python",
   "nbconvert_exporter": "python",
   "pygments_lexer": "ipython3",
   "version": "3.10.9"
  }
 },
 "nbformat": 4,
 "nbformat_minor": 2
}
