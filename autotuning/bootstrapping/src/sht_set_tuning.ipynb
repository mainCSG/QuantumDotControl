{
 "cells": [
  {
   "cell_type": "code",
   "execution_count": 3,
   "metadata": {},
   "outputs": [],
   "source": [
    "from qdtuner import SingleQuantumDotTuner"
   ]
  },
  {
   "cell_type": "code",
   "execution_count": null,
   "metadata": {},
   "outputs": [],
   "source": [
    "QDTuner = SingleQuantumDotTuner(\n",
    "    device_config='../device_config.yml',\n",
    "    station_config='../station_config.yml',\n",
    "    tuner_config='../tuner_config.yml'\n",
    ")"
   ]
  },
  {
   "cell_type": "code",
   "execution_count": null,
   "metadata": {},
   "outputs": [],
   "source": [
    "QDTuner.bias_device(Vbias=0.1)"
   ]
  },
  {
   "cell_type": "code",
   "execution_count": null,
   "metadata": {},
   "outputs": [],
   "source": [
    "# Set maxV equal to None if you want to sweep \n",
    "# up to the max voltage you set in device config\n",
    "# It'll stop if it hits max current (it should)\n",
    "QDTuner.check_turn_on(minV=0, maxV=None, dV=0.005)"
   ]
  },
  {
   "cell_type": "code",
   "execution_count": null,
   "metadata": {},
   "outputs": [],
   "source": [
    "# Set maxV equal to None if you want to use\n",
    "# saturation voltage found in turn on phase.\n",
    "QDTuner.check_pinch_offs(minV=1, maxV=None)"
   ]
  }
 ],
 "metadata": {
  "kernelspec": {
   "display_name": "mlp",
   "language": "python",
   "name": "python3"
  },
  "language_info": {
   "codemirror_mode": {
    "name": "ipython",
    "version": 3
   },
   "file_extension": ".py",
   "mimetype": "text/x-python",
   "name": "python",
   "nbconvert_exporter": "python",
   "pygments_lexer": "ipython3",
   "version": "3.10.9"
  }
 },
 "nbformat": 4,
 "nbformat_minor": 2
}
