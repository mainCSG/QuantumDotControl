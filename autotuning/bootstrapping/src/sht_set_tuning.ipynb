{
 "cells": [
  {
   "cell_type": "code",
   "execution_count": 1,
   "metadata": {},
   "outputs": [],
   "source": [
    "from qdtuner import QuantumDotFET"
   ]
  },
  {
   "cell_type": "code",
   "execution_count": 2,
   "metadata": {},
   "outputs": [
    {
     "name": "stdout",
     "output_type": "stream",
     "text": [
      "Connecting to station ... \n",
      "Connected to: HEWLETT-PACKARD 34401A (serial:0, firmware:11-5-3) in 0.19s\n",
      "Connected to: Stanford_Research_Systems SIM900 (serial:s/n130900, firmware:ver3.6) in 1.63s\n",
      "done!\n",
      "Grounding device ...  done!\n",
      "Creating/initializing a database at C:\\Users\\coher\\Desktop\\Andrija\\N44_D54_2024-05-08\\experiments_N44_D54_2024-05-08.db ...  done!\n",
      "Creating/initializing the experiment in the database ...  done!\n",
      "Copying all of the config.yml files to the new directory ...  done!\n"
     ]
    }
   ],
   "source": [
    "QD_FET_Tuner = QuantumDotFET(\n",
    "    device_config='../device_config.yml',\n",
    "    setup_config='../setup_config.yaml',\n",
    "    tuner_config='../fet_tuner_config.yaml',\n",
    "    station_config='../station_config.yaml',\n",
    "    save_dir='C:\\\\Users\\\\coher\\\\Desktop\\\\Andrija'\n",
    ")"
   ]
  },
  {
   "cell_type": "code",
   "execution_count": null,
   "metadata": {},
   "outputs": [],
   "source": [
    "QD_FET_Tuner.bias_ohmic(\n",
    "    ohmic='S', \n",
    "    V=0.005\n",
    ") "
   ]
  },
  {
   "cell_type": "code",
   "execution_count": null,
   "metadata": {},
   "outputs": [],
   "source": [
    "QD_FET_Tuner.turn_on(\n",
    "    minV=1, \n",
    "    maxV=None,\n",
    "    dV=0.05\n",
    ")"
   ]
  },
  {
   "cell_type": "code",
   "execution_count": null,
   "metadata": {},
   "outputs": [],
   "source": [
    "QD_FET_Tuner.pinch_off(\n",
    "    minV=None, \n",
    "    maxV=None, \n",
    "    dV=0.005\n",
    ")"
   ]
  },
  {
   "cell_type": "code",
   "execution_count": null,
   "metadata": {},
   "outputs": [],
   "source": [
    "QD_FET_Tuner.sweep_barriers(\n",
    "    B1='LB', \n",
    "    B2='RB', \n",
    "    dV=0.002,\n",
    "    voltage_configuration={}\n",
    ")"
   ]
  },
  {
   "cell_type": "code",
   "execution_count": null,
   "metadata": {},
   "outputs": [],
   "source": [
    "QD_FET_Tuner.coulomb_blockade(\n",
    "    P='P', \n",
    "    P_bounds=(0,0.75), \n",
    "    voltage_configuration={'S': 0.005, 'LB': 0.55, 'RB': 0.7}, \n",
    "    dV=0.005\n",
    ")"
   ]
  },
  {
   "cell_type": "code",
   "execution_count": null,
   "metadata": {},
   "outputs": [],
   "source": [
    "QD_FET_Tuner.coulomb_diamonds(\n",
    "    ohmic='S', \n",
    "    gate='P', \n",
    "    ohmic_bounds=(-0.015, 0.015),\n",
    "    gate_bounds=(0,0.75),\n",
    "    voltage_configuration={'LB': 0.55, 'RB': 0.7},\n",
    "    dV_gate=0.003, \n",
    "    dV_ohmic=0.001\n",
    ")"
   ]
  },
  {
   "cell_type": "code",
   "execution_count": null,
   "metadata": {},
   "outputs": [],
   "source": [
    "QD_FET_Tuner.current_trace(\n",
    "    f_sampling=1000,\n",
    "    t_capture=60, \n",
    "    plot_psd=True\n",
    ")"
   ]
  },
  {
   "cell_type": "code",
   "execution_count": null,
   "metadata": {},
   "outputs": [],
   "source": [
    "QD_FET_Tuner.ground_device()"
   ]
  },
  {
   "cell_type": "markdown",
   "metadata": {},
   "source": [
    "# DATABASE VIEWER"
   ]
  },
  {
   "cell_type": "code",
   "execution_count": null,
   "metadata": {},
   "outputs": [],
   "source": [
    "db_file = \"C:\\\\Users\\\\coher\\\\experiments_2024-04-27.db\"\n",
    "import IPython.lib.backgroundjobs as bg\n",
    "from plottr.apps import inspectr\n",
    "\n",
    "jobs = bg.BackgroundJobManager()\n",
    "jobs.new(inspectr.main, db_file)"
   ]
  },
  {
   "cell_type": "code",
   "execution_count": null,
   "metadata": {},
   "outputs": [],
   "source": [
    "import qcodes as qc\n",
    "qc.dataset.initialise_or_create_database_at(db_file)\n",
    "tutorial_exp = qc.dataset.load_or_create_experiment(\n",
    "    experiment_name=\"Initialization\",\n",
    "    sample_name=\"N44_D54\"\n",
    ")\n",
    "dataset = qc.dataset.load_by_run_spec(experiment_name='Initialization', captured_run_id=1)\n"
   ]
  },
  {
   "cell_type": "code",
   "execution_count": null,
   "metadata": {},
   "outputs": [],
   "source": []
  }
 ],
 "metadata": {
  "kernelspec": {
   "display_name": "mlp",
   "language": "python",
   "name": "python3"
  },
  "language_info": {
   "codemirror_mode": {
    "name": "ipython",
    "version": 3
   },
   "file_extension": ".py",
   "mimetype": "text/x-python",
   "name": "python",
   "nbconvert_exporter": "python",
   "pygments_lexer": "ipython3",
   "version": "3.10.9"
  }
 },
 "nbformat": 4,
 "nbformat_minor": 2
}
