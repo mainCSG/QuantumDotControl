{
 "cells": [
  {
   "cell_type": "code",
   "execution_count": null,
   "metadata": {},
   "outputs": [],
   "source": [
    "from qdtuner import SingleQuantumDotTuner"
   ]
  },
  {
   "cell_type": "code",
   "execution_count": null,
   "metadata": {},
   "outputs": [],
   "source": [
    "QDTuner = SingleQuantumDotTuner(\n",
    "    device_config='../device_config.yml',\n",
    "    station_config='../station_config.yml',\n",
    "    tuner_config='../tuner_config.yml',\n",
    "    qcodes_config='../qcodes_config.yml',\n",
    "    save_dir='C:\\\\Users\\\\coher\\\\Desktop\\\\Andrija'\n",
    ")\n"
   ]
  },
  {
   "cell_type": "code",
   "execution_count": null,
   "metadata": {},
   "outputs": [],
   "source": [
    "QDTuner.bias_ohmic(ohmic='S', V=0.005) # 0.5 mV"
   ]
  },
  {
   "cell_type": "code",
   "execution_count": null,
   "metadata": {},
   "outputs": [],
   "source": [
    "# Set maxV equal to None if you want to sweep \n",
    "# up to the max voltage you set in device config\n",
    "# It'll stop if it hits max current or max gate voltage (it should)\n",
    "QDTuner.turn_on_device(minV=1, maxV=None, dV=0.05)"
   ]
  },
  {
   "cell_type": "code",
   "execution_count": null,
   "metadata": {},
   "outputs": [],
   "source": [
    "# Set maxV equal to None if you want to use\n",
    "# saturation voltage found in turn on phase.\n",
    "QDTuner.pinch_off_device(minV=None, maxV=None, dV=0.005)"
   ]
  },
  {
   "cell_type": "code",
   "execution_count": null,
   "metadata": {},
   "outputs": [],
   "source": [
    "# B1 is outer, B2 is inner loop\n",
    "QDTuner.sweep_barriers(B1='LB', B2='RB', voltage_configuration={}, dV=0.002, delay=0.01)"
   ]
  },
  {
   "cell_type": "code",
   "execution_count": null,
   "metadata": {},
   "outputs": [],
   "source": [
    "QDTuner.coulomb_blockade(P='P', P_bounds=(0,0.75), voltage_configuration={'S': 0.005, 'LB': 0.55, 'RB': 0.7}, dV=0.005)"
   ]
  },
  {
   "cell_type": "code",
   "execution_count": null,
   "metadata": {},
   "outputs": [],
   "source": [
    "QDTuner.coulomb_diamonds(ohmic='S', \n",
    "                         gate='P', \n",
    "                         S_bounds=(-0.015, 0.015),\n",
    "                         gate_bounds=(0,0.75),\n",
    "                         voltage_configuration={'LB': 0.55, 'RB': 0.7},\n",
    "                         dV_gate=0.003, \n",
    "                         dV_ohmic=0.001)"
   ]
  },
  {
   "cell_type": "code",
   "execution_count": null,
   "metadata": {},
   "outputs": [],
   "source": [
    "QDTuner._zero_device()"
   ]
  },
  {
   "cell_type": "markdown",
   "metadata": {},
   "source": [
    "# DATABASE VIEWER"
   ]
  },
  {
   "cell_type": "code",
   "execution_count": null,
   "metadata": {},
   "outputs": [],
   "source": [
    "db_file = \"C:\\\\Users\\\\coher\\\\experiments_2024-04-27.db\"\n",
    "import IPython.lib.backgroundjobs as bg\n",
    "from plottr.apps import inspectr\n",
    "\n",
    "jobs = bg.BackgroundJobManager()\n",
    "jobs.new(inspectr.main, db_file)"
   ]
  },
  {
   "cell_type": "code",
   "execution_count": null,
   "metadata": {},
   "outputs": [],
   "source": [
    "import qcodes as qc\n",
    "qc.dataset.initialise_or_create_database_at(db_file)\n",
    "tutorial_exp = qc.dataset.load_or_create_experiment(\n",
    "    experiment_name=\"Initialization\",\n",
    "    sample_name=\"N44_D54\"\n",
    ")\n",
    "dataset = qc.dataset.load_by_run_spec(experiment_name='Initialization', captured_run_id=1)\n"
   ]
  },
  {
   "cell_type": "code",
   "execution_count": null,
   "metadata": {},
   "outputs": [],
   "source": []
  }
 ],
 "metadata": {
  "kernelspec": {
   "display_name": "mlp",
   "language": "python",
   "name": "python3"
  },
  "language_info": {
   "codemirror_mode": {
    "name": "ipython",
    "version": 3
   },
   "file_extension": ".py",
   "mimetype": "text/x-python",
   "name": "python",
   "nbconvert_exporter": "python",
   "pygments_lexer": "ipython3",
   "version": "3.10.9"
  }
 },
 "nbformat": 4,
 "nbformat_minor": 2
}
