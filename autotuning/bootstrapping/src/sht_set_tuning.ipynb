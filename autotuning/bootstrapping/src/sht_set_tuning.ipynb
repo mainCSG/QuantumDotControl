{
 "cells": [
  {
   "cell_type": "code",
   "execution_count": null,
   "metadata": {},
   "outputs": [],
   "source": [
    "from qdtuner import SingleQuantumDotTuner"
   ]
  },
  {
   "cell_type": "code",
   "execution_count": null,
   "metadata": {},
   "outputs": [],
   "source": [
    "QDTuner = SingleQuantumDotTuner(\n",
    "    device_config='../device_config.yml',\n",
    "    station_config='../station_config.yml',\n",
    "    tuner_config='../tuner_config.yml',\n",
    "    qcodes_config='../qcodes_config.yml'\n",
    ")"
   ]
  },
  {
   "cell_type": "code",
   "execution_count": null,
   "metadata": {},
   "outputs": [],
   "source": [
    "QDTuner.bias_device(Vbias=0.005) # 0.5 mV"
   ]
  },
  {
   "cell_type": "code",
   "execution_count": null,
   "metadata": {},
   "outputs": [],
   "source": [
    "# Set maxV equal to None if you want to sweep \n",
    "# up to the max voltage you set in device config\n",
    "# It'll stop if it hits max current or max gate voltage (it should)\n",
    "QDTuner.check_turn_on(minV=1, maxV=2.5, dV=0.05, delay=0.2)"
   ]
  },
  {
   "cell_type": "code",
   "execution_count": null,
   "metadata": {},
   "outputs": [],
   "source": [
    "QDTuner.device_info"
   ]
  },
  {
   "cell_type": "code",
   "execution_count": null,
   "metadata": {},
   "outputs": [],
   "source": [
    "import time\n",
    "QDTuner.station.sim900.write('*DCL')  # device clear\n",
    "QDTuner.station.sim900.write('FLSH')  # flush port buffers\n",
    "QDTuner.station.sim900.write('SRST')  # SIM reset (causes 100 ms delay)\n",
    "time.sleep(0.5)"
   ]
  },
  {
   "cell_type": "code",
   "execution_count": null,
   "metadata": {},
   "outputs": [],
   "source": [
    "# Set maxV equal to None if you want to use\n",
    "# saturation voltage found in turn on phase.\n",
    "QDTuner.check_pinch_offs(minV=None, maxV=None, dV=0.01, delay=0.5)"
   ]
  },
  {
   "cell_type": "code",
   "execution_count": null,
   "metadata": {},
   "outputs": [],
   "source": [
    "QDTuner.device_info"
   ]
  },
  {
   "cell_type": "code",
   "execution_count": null,
   "metadata": {},
   "outputs": [],
   "source": [
    "import time\n",
    "QDTuner.station.sim900.write('*DCL')  # device clear\n",
    "QDTuner.station.sim900.write('FLSH')  # flush port buffers\n",
    "QDTuner.station.sim900.write('SRST')  # SIM reset (causes 100 ms delay)\n",
    "time.sleep(0.5)"
   ]
  },
  {
   "cell_type": "code",
   "execution_count": null,
   "metadata": {},
   "outputs": [],
   "source": [
    "# B1 is outer, B2 is inner loop\n",
    "QDTuner.barrier_barrier_sweep(B1='LB', B2='RB', voltage_configuration={}, dV=0.002, delay=0.5)"
   ]
  },
  {
   "cell_type": "code",
   "execution_count": null,
   "metadata": {},
   "outputs": [],
   "source": [
    "QDTuner.coulomb_blockade(P='P', voltage_configuration={'LB': 1.35, 'RB': 1.29}, dV=0.1)"
   ]
  },
  {
   "cell_type": "code",
   "execution_count": null,
   "metadata": {},
   "outputs": [],
   "source": [
    "QDTuner.coulomb_diamonds(ohmic='S', gate='STL', dV_gate=0.5, dV_ohmic=0.002)"
   ]
  }
 ],
 "metadata": {
  "kernelspec": {
   "display_name": "mlp",
   "language": "python",
   "name": "python3"
  },
  "language_info": {
   "codemirror_mode": {
    "name": "ipython",
    "version": 3
   },
   "file_extension": ".py",
   "mimetype": "text/x-python",
   "name": "python",
   "nbconvert_exporter": "python",
   "pygments_lexer": "ipython3",
   "version": "3.10.9"
  }
 },
 "nbformat": 4,
 "nbformat_minor": 2
}
