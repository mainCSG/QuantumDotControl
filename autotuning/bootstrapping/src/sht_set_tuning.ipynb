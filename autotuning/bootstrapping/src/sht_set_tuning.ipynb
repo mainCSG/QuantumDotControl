{
 "cells": [
  {
   "cell_type": "code",
   "execution_count": null,
   "metadata": {},
   "outputs": [],
   "source": [
    "from qdtuner import SingleQuantumDotTuner"
   ]
  },
  {
   "cell_type": "code",
   "execution_count": null,
   "metadata": {},
   "outputs": [],
   "source": [
    "QDTuner = SingleQuantumDotTuner(\n",
    "    device_config='../device_config.yml',\n",
    "    station_config='../station_config.yml',\n",
    "    tuner_config='../tuner_config.yml',\n",
    "    qcodes_config='../qcodes_config.yml',\n",
    "    save_dir='C:\\\\Users\\\\coher\\\\Desktop\\\\Andrija'\n",
    ")\n"
   ]
  },
  {
   "cell_type": "code",
   "execution_count": null,
   "metadata": {},
   "outputs": [],
   "source": [
    "QDTuner.bias_device(Vbias=0.005) # 0.5 mV"
   ]
  },
  {
   "cell_type": "code",
   "execution_count": null,
   "metadata": {},
   "outputs": [],
   "source": [
    "# Set maxV equal to None if you want to sweep \n",
    "# up to the max voltage you set in device config\n",
    "# It'll stop if it hits max current or max gate voltage (it should)\n",
    "QDTuner.check_turn_on(minV=1, maxV=None, dV=0.05)"
   ]
  },
  {
   "cell_type": "code",
   "execution_count": null,
   "metadata": {},
   "outputs": [],
   "source": [
    "QDTuner.device_info"
   ]
  },
  {
   "cell_type": "code",
   "execution_count": null,
   "metadata": {},
   "outputs": [],
   "source": [
    "# Set maxV equal to None if you want to use\n",
    "# saturation voltage found in turn on phase.\n",
    "QDTuner.check_pinch_offs(minV=None, maxV=None, dV=0.005)"
   ]
  },
  {
   "cell_type": "code",
   "execution_count": null,
   "metadata": {},
   "outputs": [],
   "source": [
    "# B1 is outer, B2 is inner loop\n",
    "QDTuner.barrier_barrier_sweep(B1='LB', B2='RB', voltage_configuration={}, dV=0.002, delay=0.01)"
   ]
  },
  {
   "cell_type": "code",
   "execution_count": null,
   "metadata": {},
   "outputs": [],
   "source": [
    "QDTuner.coulomb_blockade(P='P', P_bounds=(0,0.75), voltage_configuration={'S': 0.005, 'LB': 0.55, 'RB': 0.7}, dV=0.005)"
   ]
  },
  {
   "cell_type": "code",
   "execution_count": null,
   "metadata": {},
   "outputs": [],
   "source": [
    "QDTuner.coulomb_diamonds(ohmic='S', \n",
    "                         gate='P', \n",
    "                         S_bounds=(-0.015, 0.015),\n",
    "                         gate_bounds=(0,0.75),\n",
    "                         voltage_configuration={'LB': 0.55, 'RB': 0.7},\n",
    "                         dV_gate=0.003, \n",
    "                         dV_ohmic=0.001)"
   ]
  },
  {
   "cell_type": "code",
   "execution_count": null,
   "metadata": {},
   "outputs": [],
   "source": [
    "import numpy as np\n",
    "import matplotlib.pyplot as plt\n",
    "import qcodes as qc\n",
    "\n",
    "# Get last dataset recorded, convert to current units\n",
    "dataset = qc.load_last_experiment().last_data_set()\n",
    "df = dataset.to_pandas_dataframe().reset_index()\n",
    "df_current = df.copy()\n",
    "df_current = df_current.rename(columns={f'{QDTuner.multimeter_device}_volt': f'{QDTuner.multimeter_device}_current'})\n",
    "df_current.iloc[:,-1] = df_current.iloc[:,-1].subtract(QDTuner.preamp_bias).mul(QDTuner.sensitivity) # sensitivity\n",
    "\n",
    "# Plot 2D colormap\n",
    "df_pivoted = df_current.pivot_table(values=f'{QDTuner.multimeter_device}_current', index=[f'{QDTuner.voltage_device}_volt_P'], columns=[f'{QDTuner.voltage_device}_volt_S'])\n",
    "gate_data, ohmic_data = df_pivoted.columns, df_pivoted.index\n",
    "raw_current_data = df_pivoted.to_numpy()[:,:-1] / 1.0e-9 # convert to nA\n",
    "gate_grad = np.gradient(raw_current_data, axis=1)\n",
    "ohmic_grad = np.gradient(raw_current_data, axis=0)\n",
    "\n",
    "fig, (ax1, ax2) = plt.subplots(1,2, figsize=(10,10))\n",
    "fig.suptitle(\"Coulomb Diamonds\")\n",
    "\n",
    "im_ratio = raw_current_data.shape[0]/raw_current_data.shape[1]\n",
    "\n",
    "cbar_ax1 = plt.colorbar(ax1.imshow(\n",
    "    raw_current_data,\n",
    "    extent=[gate_data[0], gate_data[-1], ohmic_data[0], ohmic_data[-1]],\n",
    "    origin='lower',\n",
    "    cmap='coolwarm',\n",
    "    aspect=0.1\n",
    "), ax=ax1,fraction=0.046, pad=0.04)\n",
    "\n",
    "cbar_ax1.set_label(r'$I_{SD}$ (nA)')\n",
    "ax1.set_title(r'$I_{SD}$')\n",
    "ax1.set_xlabel(r\"$V_{{{gate_name}}}$ (V)\".format(gate_name='S'))\n",
    "ax1.set_ylabel(r\"$V_{{{gate_name}}}$ (V)\".format(gate_name='P'))\n",
    "\n",
    "# V grad is actually horizontal\n",
    "grad_vector = (0,1) # Takes the gradient along 45 degree axis\n",
    "\n",
    "cbar_ax2 = plt.colorbar(ax2.imshow(\n",
    "    np.sqrt(grad_vector[0] * gate_grad**2 +   grad_vector[1]* ohmic_grad**2),\n",
    "    extent=[gate_data[0], gate_data[-1], ohmic_data[0], ohmic_data[-1]],\n",
    "    origin='lower',\n",
    "    cmap='coolwarm',\n",
    "    aspect=0.1\n",
    "), ax=ax2,fraction=0.046, pad=0.04)\n",
    "\n",
    "cbar_ax2.set_label(r'$\\nabla_{\\theta=45\\circ} I_{SD}$ (nA/V)')\n",
    "ax2.set_title(r'$\\nabla I_{SD}$')\n",
    "ax2.set_xlabel(r\"$V_{{{gate_name}}}$ (V)\".format(gate_name='S'))\n",
    "ax2.set_ylabel(r\"$V_{{{gate_name}}}$ (V)\".format(gate_name='P'))\n",
    "\n",
    "fig.tight_layout()"
   ]
  },
  {
   "cell_type": "code",
   "execution_count": null,
   "metadata": {},
   "outputs": [],
   "source": [
    "QDTuner._zero_device()"
   ]
  },
  {
   "cell_type": "markdown",
   "metadata": {},
   "source": [
    "# DATABASE VIEWER"
   ]
  },
  {
   "cell_type": "code",
   "execution_count": null,
   "metadata": {},
   "outputs": [],
   "source": [
    "db_file = \"C:\\\\Users\\\\coher\\\\experiments_2024-04-27.db\"\n",
    "import IPython.lib.backgroundjobs as bg\n",
    "from plottr.apps import inspectr\n",
    "\n",
    "jobs = bg.BackgroundJobManager()\n",
    "jobs.new(inspectr.main, db_file)"
   ]
  },
  {
   "cell_type": "code",
   "execution_count": null,
   "metadata": {},
   "outputs": [],
   "source": [
    "import qcodes as qc\n",
    "qc.dataset.initialise_or_create_database_at(db_file)\n",
    "tutorial_exp = qc.dataset.load_or_create_experiment(\n",
    "    experiment_name=\"Initialization\",\n",
    "    sample_name=\"N44_D54\"\n",
    ")\n",
    "dataset = qc.dataset.load_by_run_spec(experiment_name='Initialization', captured_run_id=1)\n"
   ]
  },
  {
   "cell_type": "code",
   "execution_count": null,
   "metadata": {},
   "outputs": [],
   "source": []
  }
 ],
 "metadata": {
  "kernelspec": {
   "display_name": "mlp",
   "language": "python",
   "name": "python3"
  },
  "language_info": {
   "codemirror_mode": {
    "name": "ipython",
    "version": 3
   },
   "file_extension": ".py",
   "mimetype": "text/x-python",
   "name": "python",
   "nbconvert_exporter": "python",
   "pygments_lexer": "ipython3",
   "version": "3.10.9"
  }
 },
 "nbformat": 4,
 "nbformat_minor": 2
}
