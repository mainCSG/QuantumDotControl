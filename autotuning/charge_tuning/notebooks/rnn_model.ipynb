{
 "cells": [
  {
   "cell_type": "code",
   "execution_count": 12,
   "metadata": {},
   "outputs": [],
   "source": [
    "import numpy as np\n",
    "import matplotlib.pyplot as plt\n",
    "\n",
    "import skimage as sk\n",
    "\n",
    "import torch\n",
    "import torch.nn as nn\n",
    "from torch.nn.utils.rnn import pad_sequence\n",
    "import random\n"
   ]
  },
  {
   "attachments": {},
   "cell_type": "markdown",
   "metadata": {},
   "source": [
    "# Create Dummy CSD"
   ]
  },
  {
   "cell_type": "code",
   "execution_count": 10,
   "metadata": {},
   "outputs": [
    {
     "data": {
      "image/png": "[encoded data removed]",
      "text/plain": [
       "<Figure size 640x480 with 1 Axes>"
      ]
     },
     "metadata": {},
     "output_type": "display_data"
    }
   ],
   "source": [
    "\n",
    "# Create a blank image with a grid of 100x100\n",
    "grid_size = 100\n",
    "image = np.ones((grid_size, grid_size), dtype=np.uint8) * 255\n",
    "\n",
    "horizontal_spacing = np.random.randint(20,30)\n",
    "vertical_spacing = np.random.randint(20,40)\n",
    "\n",
    "image[:, 0] = 0\n",
    "image[:, -1] = 0\n",
    "image[0, :] = 0\n",
    "image[-1, :] = 0\n",
    "image[:,horizontal_spacing::horizontal_spacing] = 0\n",
    "image[vertical_spacing::vertical_spacing, :] = 0\n",
    "\n",
    "# Label each block accordingly\n",
    "for i in range(0, grid_size, vertical_spacing):\n",
    "    for j in range(0, grid_size, horizontal_spacing):\n",
    "        x_label = j // horizontal_spacing\n",
    "        y_label = i // vertical_spacing\n",
    "        label = f\"({x_label}, {y_label})\"\n",
    "        plt.text(j + horizontal_spacing//2, i + vertical_spacing//2, label, color='black',\n",
    "                 ha='center', va='center')\n",
    "\n",
    "# Display the resulting image\n",
    "plt.imshow(image)\n",
    "plt.axis('off')\n",
    "plt.show()\n"
   ]
  },
  {
   "attachments": {},
   "cell_type": "markdown",
   "metadata": {},
   "source": [
    "# Break into Polygons"
   ]
  },
  {
   "cell_type": "code",
   "execution_count": 11,
   "metadata": {},
   "outputs": [
    {
     "data": {
      "image/png": "[encoded data removed]",
      "text/plain": [
       "<Figure size 640x480 with 1 Axes>"
      ]
     },
     "metadata": {},
     "output_type": "display_data"
    }
   ],
   "source": [
    "image_labelled = sk.measure.label(image, connectivity=1)\n",
    "\n",
    "image_regions = sk.measure.regionprops(image_labelled)\n",
    "\n",
    "for index in range(len(image_regions)):\n",
    "    region_info = {}\n",
    "\n",
    "    region_coords = image_regions[index].coords\n",
    "\n",
    "    # Get boundaries of coordiantes\n",
    "    temp = {}\n",
    "    for row in region_coords:\n",
    "        key = row[0]\n",
    "        value = row[1]\n",
    "        if key not in temp:\n",
    "            temp[key] = [value, value]  # Initialize with the current value\n",
    "        else:\n",
    "            temp[key][0] = min(temp[key][0], value)  # Update minimum value\n",
    "            temp[key][1] = max(temp[key][1], value)  # Update maximum value\n",
    "    region_coords = np.array([[key, minmax[0]] for key, minmax in temp.items()] + [[key, minmax[1]] for key, minmax in temp.items()])\n",
    "\n",
    "    y,x = region_coords.T\n",
    "\n",
    "    px = x.tolist()\n",
    "    py = y.tolist()\n",
    "\n",
    "    def flip_coordinates_horizontal_axis(x_coordinates, y_coordinates, axis):\n",
    "        flipped_x_coordinates = []\n",
    "        flipped_y_coordinates = []\n",
    "        \n",
    "        for x, y in zip(x_coordinates, y_coordinates):\n",
    "            distance = (axis - y)\n",
    "            y_flipped = axis + distance\n",
    "            flipped_x_coordinates.append(x)\n",
    "            flipped_y_coordinates.append(y_flipped)\n",
    "        \n",
    "        return flipped_x_coordinates, flipped_y_coordinates\n",
    "\n",
    "    def find_polygon_centroid(coordinates):\n",
    "\n",
    "        n = len(coordinates)\n",
    "        \n",
    "        # Calculate the signed area of the polygon\n",
    "        signed_area = 0\n",
    "        for i in range(n):\n",
    "            x_i, y_i = coordinates[i]\n",
    "            x_j, y_j = coordinates[(i + 1) % n]\n",
    "            signed_area += (x_i * y_j - x_j * y_i)\n",
    "        signed_area *= 0.5\n",
    "        \n",
    "        # Calculate the coordinates of the centroid\n",
    "        centroid_x = 0\n",
    "        centroid_y = 0\n",
    "        for i in range(n):\n",
    "            x_i, y_i = coordinates[i]\n",
    "            x_j, y_j = coordinates[(i + 1) % n]\n",
    "            factor = x_i * y_j - x_j * y_i\n",
    "            centroid_x += (x_i + x_j) * factor\n",
    "            centroid_y += (y_i + y_j) * factor\n",
    "        centroid_x /= (6 * signed_area)\n",
    "        centroid_y /= (6 * signed_area)\n",
    "        \n",
    "        return centroid_x, centroid_y\n",
    "\n",
    "    def organize_array_clockwise(arr):\n",
    "            \n",
    "        # Calculate the centroid of the points\n",
    "        centroid = np.mean(arr, axis=0)\n",
    "\n",
    "        # Calculate the angle of each point with respect to the centroid\n",
    "        angles = np.arctan2(arr[:, 1] - centroid[1], arr[:, 0] - centroid[0])\n",
    "\n",
    "        # Sort the points based on the angles in clockwise order\n",
    "        indices = np.argsort(angles)\n",
    "        sorted_arr = arr[indices]\n",
    "\n",
    "        return sorted_arr      \n",
    "\n",
    "    poly = [(x, y) for x, y in zip(px, py)]\n",
    "    poly = np.array([p for x in poly for p in x]).reshape(-1,2)\n",
    "    \n",
    "    poly_clockwise = organize_array_clockwise(poly)\n",
    "    x0, y0 = find_polygon_centroid(poly_clockwise)\n",
    "    x0_, y0_ = flip_coordinates_horizontal_axis([x0], [y0], axis=image.shape[0]/2)\n",
    "    x0_, y0_ = flip_coordinates_horizontal_axis(y0_, x0_, axis=image.shape[1]/2)\n",
    "    x0_val, y0_val = x0_[0], y0_[0]\n",
    "\n",
    "    plt.scatter([x0],[y0], s=2)\n",
    "    plt.scatter(px,py, s=1)"
   ]
  },
  {
   "cell_type": "code",
   "execution_count": 48,
   "metadata": {},
   "outputs": [],
   "source": [
    "def generate_dataset(sequence_length):\n",
    "\n",
    "    ones_count = 1\n",
    "    max_num = 2 ** (sequence_length)\n",
    "    rand_num = np.random.randint(1, max_num)\n",
    "\n",
    "    binary_list = [int(bit) for bit in bin(rand_num)[2:]]\n",
    "\n",
    "    label = [0] * len(binary_list)\n",
    "    for i in range(len(binary_list)):\n",
    "        if binary_list[i] == 1:\n",
    "            label[i] = ones_count\n",
    "            ones_count += 1\n",
    "        \n",
    "    return binary_list, label\n",
    "    "
   ]
  },
  {
   "cell_type": "code",
   "execution_count": 148,
   "metadata": {},
   "outputs": [
    {
     "name": "stdout",
     "output_type": "stream",
     "text": [
      "[]\n"
     ]
    },
    {
     "data": {
      "image/png": "[encoded data removed]",
      "text/plain": [
       "<Figure size 640x480 with 1 Axes>"
      ]
     },
     "metadata": {},
     "output_type": "display_data"
    }
   ],
   "source": [
    "import numpy as np\n",
    "points = np.array([[0, 0],  [1, 0], [2,0], [0, 1], [1, 1], [2,1], [0,2],[1,2], [2,2]])\n",
    "from scipy.spatial import Delaunay\n",
    "# Perform Delaunay triangulation\n",
    "tri = Delaunay(points)\n",
    "\n",
    "# Get the simplices of the triangular mesh\n",
    "triangles = tri.simplices\n",
    "\n",
    "# Create an empty list to store the convex hull quadrilaterals\n",
    "convex_hull_quads = []\n",
    "\n",
    "# Iterate through each triangle and its neighbors\n",
    "for triangle_idx, neighbors in zip(triangles, tri.neighbors):\n",
    "    for neighbor_idx in neighbors:\n",
    "        # Skip if neighbor is -1 (indicating no neighbor)\n",
    "        if neighbor_idx == -1:\n",
    "            continue\n",
    "\n",
    "        # Find the shared edge between the triangle and its neighbor\n",
    "        shared_edge = list(set(triangle_idx) & set(triangles[neighbor_idx]))\n",
    "\n",
    "        # Determine the remaining two vertices of the quadrilateral\n",
    "        unique_vertices = list(set(triangle_idx) ^ set(triangles[neighbor_idx]))\n",
    "\n",
    "        # Create the convex hull quadrilateral\n",
    "        list1 = shared_edge\n",
    "        list2 = unique_vertices\n",
    "        stitched_list = [x for pair in zip(list1, list2) for x in pair]\n",
    "        # print(stitched_list)\n",
    "        if max(stitched_list) - min(stitched_list) > 3:\n",
    "            pass\n",
    "        else:\n",
    "            convex_hull_quads.append(stitched_list) \n",
    "\n",
    "# Convert the list of convex hull quadrilaterals to a NumPy array\n",
    "quads = np.array(convex_hull_quads)\n",
    "print(quads)\n",
    "# quads = [[0, 1, 2, 3, 0]]\n",
    "# Create the adjacency matrix\n",
    "num_vertices = points.shape[0]\n",
    "adjacency_matrix = np.zeros((num_vertices, num_vertices), dtype=int)\n",
    "for quad in quads:\n",
    "    for i in range(4):\n",
    "        adjacency_matrix[quad[i], quad[(i+1) % 4]] = 1\n",
    "        adjacency_matrix[quad[(i+1) % 4], quad[i]] = 1\n",
    "\n",
    "import matplotlib.pyplot as plt\n",
    "# Plot the points and lines\n",
    "fig, ax = plt.subplots()\n",
    "ax.plot(points[:, 0], points[:, 1], 'ro')\n",
    "\n",
    "for i in range(num_vertices):\n",
    "    for j in range(i + 1, num_vertices):\n",
    "        if adjacency_matrix[i, j] == 1:\n",
    "            ax.plot([points[i, 0], points[j, 0]], [points[i, 1], points[j, 1]], 'b-')\n",
    "\n",
    "ax.set_aspect('equal')\n",
    "ax.set_title('Points and Adjacency Matrix')\n",
    "\n",
    "plt.show()"
   ]
  },
  {
   "cell_type": "code",
   "execution_count": null,
   "metadata": {},
   "outputs": [],
   "source": []
  },
  {
   "cell_type": "code",
   "execution_count": null,
   "metadata": {},
   "outputs": [],
   "source": []
  }
 ],
 "metadata": {
  "kernelspec": {
   "display_name": "mlp",
   "language": "python",
   "name": "python3"
  },
  "language_info": {
   "codemirror_mode": {
    "name": "ipython",
    "version": 3
   },
   "file_extension": ".py",
   "mimetype": "text/x-python",
   "name": "python",
   "nbconvert_exporter": "python",
   "pygments_lexer": "ipython3",
   "version": "3.10.11"
  },
  "orig_nbformat": 4
 },
 "nbformat": 4,
 "nbformat_minor": 2
}
