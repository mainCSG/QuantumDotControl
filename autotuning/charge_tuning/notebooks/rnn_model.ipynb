{
 "cells": [
  {
   "cell_type": "code",
   "execution_count": 47,
   "metadata": {},
   "outputs": [
    {
     "data": {
      "image/png": "[encoded data removed]",
      "text/plain": [
       "<Figure size 640x480 with 1 Axes>"
      ]
     },
     "metadata": {},
     "output_type": "display_data"
    }
   ],
   "source": [
    "import numpy as np\n",
    "import matplotlib.pyplot as plt\n",
    "\n",
    "# Create a blank image with a grid of 100x100\n",
    "grid_size = 100\n",
    "image = np.ones((grid_size, grid_size), dtype=np.uint8) * 255\n",
    "\n",
    "horizontal_spacing = np.random.randint(20,30)\n",
    "vertical_spacing = np.random.randint(20,40)\n",
    "\n",
    "image[:, 0] = 0\n",
    "image[:, -1] = 0\n",
    "image[0, :] = 0\n",
    "image[-1, :] = 0\n",
    "image[:,horizontal_spacing::horizontal_spacing] = 0\n",
    "image[vertical_spacing::vertical_spacing, :] = 0\n",
    "\n",
    "# Label each block accordingly\n",
    "for i in range(0, grid_size, vertical_spacing):\n",
    "    for j in range(0, grid_size, horizontal_spacing):\n",
    "        x_label = j // horizontal_spacing\n",
    "        y_label = i // vertical_spacing\n",
    "        label = f\"({x_label}, {y_label})\"\n",
    "        plt.text(j + horizontal_spacing//2, i + vertical_spacing//2, label, color='black',\n",
    "                 ha='center', va='center')\n",
    "\n",
    "# Display the resulting image\n",
    "plt.imshow(image)\n",
    "plt.axis('off')\n",
    "plt.show()\n"
   ]
  },
  {
   "cell_type": "code",
   "execution_count": null,
   "metadata": {},
   "outputs": [],
   "source": []
  }
 ],
 "metadata": {
  "kernelspec": {
   "display_name": "mlp",
   "language": "python",
   "name": "python3"
  },
  "language_info": {
   "codemirror_mode": {
    "name": "ipython",
    "version": 3
   },
   "file_extension": ".py",
   "mimetype": "text/x-python",
   "name": "python",
   "nbconvert_exporter": "python",
   "pygments_lexer": "ipython3",
   "version": "3.10.9"
  },
  "orig_nbformat": 4
 },
 "nbformat": 4,
 "nbformat_minor": 2
}
