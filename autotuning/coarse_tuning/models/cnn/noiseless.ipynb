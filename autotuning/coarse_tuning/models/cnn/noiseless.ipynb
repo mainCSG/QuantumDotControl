{
 "cells": [
  {
   "attachments": {},
   "cell_type": "markdown",
   "metadata": {},
   "source": [
    "# Coarse Tuning\n",
    "### Convolutional Neural Network\n",
    "\n",
    "\n",
    "Follows the method laid out in: [Machine learning techniques for state recognition and auto-tuning in quantum dots](https://www.nature.com/articles/s41534-018-0118-7)."
   ]
  },
  {
   "attachments": {},
   "cell_type": "markdown",
   "metadata": {},
   "source": [
    "# Import Modules\n"
   ]
  },
  {
   "cell_type": "code",
   "execution_count": 10,
   "metadata": {},
   "outputs": [],
   "source": [
    "import os\n",
    "import sys\n",
    "%matplotlib inline\n",
    "\n",
    "os.chdir(\"/Users/andrijapaurevic/Documents/UWaterloo/Research/mainCSG/QuantumDotControl\")\n",
    "\n",
    "from autotuning.coarse_tuning.data.process_data import *\n",
    "from autotuning.coarse_tuning.models.cnn.noiseless_cnn_model import *"
   ]
  },
  {
   "attachments": {},
   "cell_type": "markdown",
   "metadata": {},
   "source": [
    "# Load Data"
   ]
  },
  {
   "cell_type": "code",
   "execution_count": 11,
   "metadata": {},
   "outputs": [
    {
     "name": "stdout",
     "output_type": "stream",
     "text": [
      "File 0/1000 completed ... \n",
      "\n",
      "File 500/1000 completed ... \n",
      "\n",
      "File 1000/1000 completed ... \n",
      "\n"
     ]
    }
   ],
   "source": [
    "raw_data_path = os.path.join(os.getcwd(), \"data/raw\")\n",
    "processed_data_path = \"/Users/andrijapaurevic/Documents/UWaterloo/Research/mainCSG/QuantumDotControl/data/processed\"\n",
    "\n",
    "tile_size = 10\n",
    "dataset_size = 1000\n",
    "train_val_split = 0.9\n",
    "batch_size = 64\n",
    "\n",
    "process_data(raw_data_path, processed_data_path, tile_size, train_val_split, dataset_size)\n",
    "dataloader_P1, dataloader_P2, voltages = prepare_train_data_for_torch(processed_data_path, batch_size, tiled=True)"
   ]
  },
  {
   "attachments": {},
   "cell_type": "markdown",
   "metadata": {},
   "source": [
    "# Train Model"
   ]
  },
  {
   "cell_type": "code",
   "execution_count": 12,
   "metadata": {},
   "outputs": [],
   "source": [
    "raw_data_path = os.path.join(os.getcwd(), \"data/raw\")\n",
    "processed_data_path = \"/Users/andrijapaurevic/Documents/UWaterloo/Research/mainCSG/QuantumDotControl/data/processed\"\n",
    "\n",
    "tile_size = 10\n",
    "dataset_size = 1000\n",
    "train_val_split = 0.9\n",
    "batch_size = 64\n",
    "\n",
    "device = torch.device('cuda' if torch.cuda.is_available() else 'mps')\n",
    "\n",
    "# Number of Classes = 4 (0-2 QD, -1 Short)\n",
    "model = CoarseTuningCNN(image_size=100, num_classes=4).to(device)\n",
    "\n",
    "optimizer = torch.optim.Adam(model.parameters(), lr=3.45e-4)\n",
    "criterion = torch.nn.BCEWithLogitsLoss()\n",
    "\n",
    "trained_model_save_path = os.path.join(os.getcwd(), f'autotuning/coarse_tuning/models/cnn/noiseless_cnn_model_TRAINED_TILESIZE{tile_size}_DATASETSIZE{dataset_size}.pth')\n",
    "\n",
    "if not os.path.exists(trained_model_save_path):     \n",
    "    epochs = 20\n",
    "    for epoch in range(1, epochs + 1):\n",
    "        if epoch % 5 == 0:\n",
    "            print(f\"Epoch #{epoch}\")\n",
    "            model.backprop(model, device, dataloader_P1, optimizer, criterion)\n",
    "\n",
    "    torch.save(model.state_dict(),trained_model_save_path)"
   ]
  },
  {
   "attachments": {},
   "cell_type": "markdown",
   "metadata": {},
   "source": [
    "# Prediction Model"
   ]
  },
  {
   "cell_type": "code",
   "execution_count": 13,
   "metadata": {},
   "outputs": [
    {
     "data": {
      "image/png": "[encoded data removed]",
      "text/plain": [
       "<Figure size 640x480 with 1 Axes>"
      ]
     },
     "metadata": {},
     "output_type": "display_data"
    },
    {
     "name": "stdout",
     "output_type": "stream",
     "text": [
      "\n",
      "Test set: Average loss: -0.7807, Accuracy: 6924/10000 (69%), Standard Deviation: 13\n",
      "\n"
     ]
    }
   ],
   "source": [
    "# tile_size = 25\n",
    "# dataset_size = 10\n",
    "# train_val_split = 0.9\n",
    "# batch_size = 64\n",
    "\n",
    "# raw_data_path = os.path.join(os.getcwd(), \"data/raw\")\n",
    "# processed_data_path = \"/Users/andrijapaurevic/Documents/UWaterloo/Research/mainCSG/QuantumDotControl/data/processed\"\n",
    "# trained_model_save_path = os.path.join(os.getcwd(), f'autotuning/coarse_tuning/models/cnn/noiseless_cnn_model_TRAINED_TILESIZE{tile_size}_DATASETSIZE{dataset_size}.pth')\n",
    "\n",
    "\n",
    "device = torch.device('cuda' if torch.cuda.is_available() else 'mps')\n",
    "\n",
    "model = CoarseTuningCNN(image_size=100, num_classes=4).to(device)\n",
    "model.load_state_dict(torch.load(trained_model_save_path))\n",
    "\n",
    "dataloader_P1, dataloader_P2, voltages = prepare_val_data_for_torch(processed_data_path,tiled=True)\n",
    "model.test(model, device, dataloader_P1, criterion, voltages, tile_size=tile_size)"
   ]
  },
  {
   "cell_type": "code",
   "execution_count": null,
   "metadata": {},
   "outputs": [],
   "source": []
  }
 ],
 "metadata": {
  "kernelspec": {
   "display_name": "mlp",
   "language": "python",
   "name": "python3"
  },
  "language_info": {
   "codemirror_mode": {
    "name": "ipython",
    "version": 3
   },
   "file_extension": ".py",
   "mimetype": "text/x-python",
   "name": "python",
   "nbconvert_exporter": "python",
   "pygments_lexer": "ipython3",
   "version": "3.10.9"
  },
  "orig_nbformat": 4,
  "vscode": {
   "interpreter": {
    "hash": "1417ab730e4fb45dba8dacafe2e6fa9c4c045d20b4e469c0afc85a5ad19f9629"
   }
  }
 },
 "nbformat": 4,
 "nbformat_minor": 2
}
