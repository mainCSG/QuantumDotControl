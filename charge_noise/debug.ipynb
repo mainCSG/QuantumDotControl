{
 "cells": [
  {
   "cell_type": "code",
   "execution_count": null,
   "metadata": {},
   "outputs": [],
   "source": [
    "from charge_noise_tool import *\n",
    "\n",
    "#!python -m pip install ipympl"
   ]
  },
  {
   "cell_type": "code",
   "execution_count": null,
   "metadata": {},
   "outputs": [],
   "source": [
    "folder = \"14-07-09_sweep2D_SDPvsV_SD_1\"\n",
    "data_name = \"hallbar_V_SD_1_set_gates_SDP_set.dat\"\n",
    "# folder = \"130610\"\n",
    "# data_name = \"data.dat\"\n",
    "\n",
    "# Load snapshot information\n",
    "# into a dataframe (easier to process)\n",
    "snapshot_json = pd.read_json(f\"./data/{folder}/snapshot.json\")\n",
    "snapshot_df = pd.DataFrame(snapshot_json).replace(['#'],[''],regex=True)\n",
    "\n",
    "# Load CSV into dataframe\n",
    "data_csv = pd.read_csv(f\"./data/{folder}/{data_name}\", skiprows=[0,2], sep='\\t')\n",
    "data_df = pd.DataFrame(data_csv)\n",
    "\n",
    "# Remove artifacts\n",
    "data_df.columns = data_df.columns.str.replace('[#, ,\"]','',regex=True)"
   ]
  },
  {
   "cell_type": "code",
   "execution_count": null,
   "metadata": {},
   "outputs": [],
   "source": [
    "X1 = \"SDP\"\n",
    "X2 = \"V_SD_1\"\n",
    "Y = \"Isd_DC\"\n",
    "\n",
    "VST_sweep = np.unique(np.array(data_df[X1]))\n",
    "VSD_sweep = np.unique(np.array(data_df[X2]))\n",
    "ISD_2D = np.rot90(\n",
    "    np.array(data_df[Y]).reshape(len(VSD_sweep),len(VST_sweep)),0\n",
    ")\n",
    "\n",
    "ISD_1D = ISD_2D.T[:,7]\n",
    "VSD_1D = VSD_sweep[7]"
   ]
  },
  {
   "cell_type": "code",
   "execution_count": null,
   "metadata": {},
   "outputs": [],
   "source": [
    "Palpatine = ChargeNoiseExtractor()\n",
    "\n",
    "VST_max, G_max = Palpatine.get_VST_for_Gmax(VST_sweep, ISD_1D, VSD=VSD_1D, plot=True)"
   ]
  },
  {
   "cell_type": "code",
   "execution_count": null,
   "metadata": {},
   "outputs": [],
   "source": [
    "Palpatine.get_lever_arms(\n",
    "    VST_sweep, \n",
    "    VSD_sweep, \n",
    "    ISD_2D, \n",
    "    VST_window=(300., 320.), \n",
    "    VSD_window=(140., 800.),\n",
    "    automated=False\n",
    ")"
   ]
  },
  {
   "cell_type": "code",
   "execution_count": null,
   "metadata": {},
   "outputs": [],
   "source": []
  }
 ],
 "metadata": {
  "kernelspec": {
   "display_name": "opt_control",
   "language": "python",
   "name": "python3"
  },
  "language_info": {
   "codemirror_mode": {
    "name": "ipython",
    "version": 3
   },
   "file_extension": ".py",
   "mimetype": "text/x-python",
   "name": "python",
   "nbconvert_exporter": "python",
   "pygments_lexer": "ipython3",
   "version": "3.10.11"
  }
 },
 "nbformat": 4,
 "nbformat_minor": 2
}
