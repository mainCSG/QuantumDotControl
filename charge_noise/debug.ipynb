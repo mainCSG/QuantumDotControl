{
 "cells": [
  {
   "cell_type": "code",
   "execution_count": null,
   "metadata": {},
   "outputs": [],
   "source": []
  },
  {
   "cell_type": "code",
   "execution_count": null,
   "metadata": {},
   "outputs": [],
   "source": [
    "from charge_noise_tool import *\n",
    "\n",
    "#!python -m pip install ipympl"
   ]
  },
  {
   "cell_type": "code",
   "execution_count": null,
   "metadata": {},
   "outputs": [],
   "source": [
    "folder = \"14-07-09_sweep2D_SDPvsV_SD_1\"\n",
    "data_name = \"hallbar_V_SD_1_set_gates_SDP_set.dat\"\n",
    "# folder = \"130610\"\n",
    "# data_name = \"data.dat\"\n",
    "\n",
    "# Load snapshot information\n",
    "# into a dataframe (easier to process)\n",
    "snapshot_json = pd.read_json(f\"./data/{folder}/snapshot.json\")\n",
    "snapshot_df = pd.DataFrame(snapshot_json).replace(['#'],[''],regex=True)\n",
    "\n",
    "# Load CSV into dataframe\n",
    "data_csv = pd.read_csv(f\"./data/{folder}/{data_name}\", skiprows=[0,2], sep='\\t')\n",
    "data_df = pd.DataFrame(data_csv)\n",
    "\n",
    "# Remove artifacts\n",
    "data_df.columns = data_df.columns.str.replace('[#, ,\"]','',regex=True)"
   ]
  },
  {
   "cell_type": "code",
   "execution_count": null,
   "metadata": {},
   "outputs": [],
   "source": [
    "X1 = \"SDP\"\n",
    "X2 = \"V_SD_1\"\n",
    "Y = \"Isd_DC\"\n",
    "\n",
    "VST_sweep = np.unique(np.array(data_df[X1]))\n",
    "VSD_sweep = np.unique(np.array(data_df[X2]))\n",
    "ISD_2D = np.rot90(\n",
    "    np.array(data_df[Y]).reshape(len(VSD_sweep),len(VST_sweep)),0\n",
    ")\n",
    "\n",
    "ISD_1D = ISD_2D.T[:,7]\n",
    "VSD_1D = VSD_sweep[7]"
   ]
  },
  {
   "cell_type": "code",
   "execution_count": null,
   "metadata": {},
   "outputs": [],
   "source": [
    "Palpatine = ChargeNoiseExtractor()\n",
    "\n",
    "VST_max, G_max = Palpatine.get_VST_for_Gmax(VST_sweep, ISD_1D, VSD=VSD_1D, plot=True)"
   ]
  },
  {
   "cell_type": "code",
   "execution_count": null,
   "metadata": {},
   "outputs": [],
   "source": [
    "Palpatine.get_lever_arms(\n",
    "    VST_sweep, \n",
    "    VSD_sweep, \n",
    "    ISD_2D, \n",
    "    VST_window=(300., 320.), \n",
    "    VSD_window=(140., 800.),\n",
    "    automated=False\n",
    ")"
   ]
  },
  {
   "cell_type": "code",
   "execution_count": 72,
   "metadata": {},
   "outputs": [
    {
     "name": "stdout",
     "output_type": "stream",
     "text": [
      "[0.00000000e+00 4.09600241e-05 8.19200482e-05 ... 6.96319181e+01\n",
      " 6.96319590e+01 6.96320000e+01]\n",
      "[1.83105469e-10 1.81884766e-10 1.82495117e-10 ... 3.38745117e-10\n",
      " 3.40576172e-10 3.40576172e-10]\n"
     ]
    }
   ],
   "source": [
    "import qcodes as qc\n",
    "from qcodes.dataset import (\n",
    "    Measurement,\n",
    "    initialise_or_create_database_at,\n",
    "    load_or_create_experiment,\n",
    "    plot_dataset,\n",
    ")\n",
    "from qcodes.parameters import Parameter\n",
    "import numpy as np\n",
    "import matplotlib.pyplot as plt\n",
    "db_file_path = './data/Charge Noise/db_20231207-pMOS-e.db'\n",
    "run_ids = [1,10]\n",
    "run_ids = [i for i in range(run_ids[0], run_ids[1]+1)]\n",
    "\n",
    "# run_ids = [1]\n",
    "\n",
    "qc.initialise_or_create_database_at(db_file_path)\n",
    "datasets = [qc.load_by_run_spec(captured_run_id=run) for run in run_ids]\n",
    "params = datasets[0].parameters.split(',')\n",
    "xname,zname = params\n",
    "# print(xName, xUnit)\n",
    "x = np.array([datasets[index].get_parameter_data(xname)[xname][xname] for index in range(len(datasets))])\n",
    "print(x.flatten())\n",
    "currents = np.array([datasets[index].get_parameter_data('digitizer_Idc_py')['digitizer_Idc_py']['digitizer_Idc_py'] for index in range(len(datasets))])\n",
    "print(currents[0])\n",
    "# avg_currents = np.mean(currents,axis=0)\n",
    "# plt.plot(avg_currents)\n",
    "# plt.show()"
   ]
  },
  {
   "cell_type": "code",
   "execution_count": 55,
   "metadata": {},
   "outputs": [
    {
     "data": {
      "image/png": "[encoded data removed]",
      "text/plain": [
       "<Figure size 640x480 with 1 Axes>"
      ]
     },
     "metadata": {},
     "output_type": "display_data"
    }
   ],
   "source": [
    "db_file_path = './data/Charge Noise/db_20231207-pMOS-c.db'\n",
    "run_ids = [3]\n",
    "# run_ids = [i for i in range(run_ids[0], run_ids[1]+1)]\n",
    "\n",
    "# run_ids = [1]\n",
    "\n",
    "qc.initialise_or_create_database_at(db_file_path)\n",
    "datasets = [qc.load_by_run_spec(captured_run_id=run) for run in run_ids]\n",
    "params = datasets[0].parameters.split(',')\n",
    "xname, yname, zname = params\n",
    "x = np.array([datasets[index].get_parameter_data(xname)[xname][xname] for index in range(len(datasets))])\n",
    "y = np.array([datasets[index].get_parameter_data(yname)[yname][yname] for index in range(len(datasets))])\n",
    "z = np.array([datasets[index].get_parameter_data(zname)[zname][zname] for index in range(len(datasets))])\n",
    "\n",
    "plt.imshow(z[0], extent=[x[0][0],x[0][-1],y[0][0],y[0][-1]])\n",
    "plt.show()"
   ]
  },
  {
   "cell_type": "code",
   "execution_count": null,
   "metadata": {},
   "outputs": [],
   "source": []
  }
 ],
 "metadata": {
  "kernelspec": {
   "display_name": "opt_control",
   "language": "python",
   "name": "python3"
  },
  "language_info": {
   "codemirror_mode": {
    "name": "ipython",
    "version": 3
   },
   "file_extension": ".py",
   "mimetype": "text/x-python",
   "name": "python",
   "nbconvert_exporter": "python",
   "pygments_lexer": "ipython3",
   "version": "3.10.11"
  }
 },
 "nbformat": 4,
 "nbformat_minor": 2
}
