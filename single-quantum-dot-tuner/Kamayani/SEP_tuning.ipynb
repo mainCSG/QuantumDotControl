{
 "cells": [
  {
   "cell_type": "code",
   "execution_count": 5,
   "id": "ae23c5cb",
   "metadata": {},
   "outputs": [],
   "source": [
    "from qcodes_contrib_drivers.drivers.StanfordResearchSystems.SIM928 import SIM928\n",
    "from qcodes.instrument_drivers.agilent.Agilent_34401A import Agilent34401A\n",
    "from first_run import * "
   ]
  },
  {
   "cell_type": "code",
   "execution_count": null,
   "id": "ef085405",
   "metadata": {},
   "outputs": [
    {
     "name": "stdout",
     "output_type": "stream",
     "text": [
      "Connected to: Stanford_Research_Systems SIM900 (serial:s/n130900, firmware:ver3.6) in 1.60s\n",
      "Connected to: HEWLETT-PACKARD 34401A (serial:0, firmware:11-5-3) in 0.06s\n"
     ]
    }
   ],
   "source": [
    "# Connecting to SIM900 and Agilent\n",
    "sim = SIM928(\"sim900\", \"GPIB0::3::INSTR\", slot_names={i: f'ch{i}' for i in range (1,9)})\n",
    "agilent = Agilent34401A(\"agilent\", \"GPIB0::21::INSTR\")"
   ]
  },
  {
   "cell_type": "code",
   "execution_count": null,
   "id": "1bf26d3e",
   "metadata": {},
   "outputs": [],
   "source": []
  },
  {
   "cell_type": "code",
   "execution_count": 4,
   "id": "43f0f445",
   "metadata": {},
   "outputs": [
    {
     "name": "stdout",
     "output_type": "stream",
     "text": [
      "The voltage of all channels in sim900 is set to 0V.\n",
      "Step 1: Grounding the devices: completed.\n"
     ]
    }
   ],
   "source": [
    "ground_device_sim(sim, 1, step= 0.1, delay = 0.5)\n",
    "\n",
    "print('The voltage of all channels in sim900 is set to 0V.')\n",
    "print('Step 1: Grounding the devices: completed.')"
   ]
  },
  {
   "cell_type": "code",
   "execution_count": 4,
   "id": "d4aab062",
   "metadata": {},
   "outputs": [],
   "source": [
    "# The following gates are assumed to be connected to the following channels in sim900:\n",
    "# Channel 1: Top gate\n",
    "# Channel 2: QPC bottom\n",
    "# Channel 3: QPC top\n",
    "# Channel 4: Exit gate\n",
    "# Channel 5: Entrance gate\n",
    "# Channel 6: Source-drain bias (currently set to zero)"
   ]
  }
 ],
 "metadata": {
  "kernelspec": {
   "display_name": ".venv",
   "language": "python",
   "name": "python3"
  },
  "language_info": {
   "codemirror_mode": {
    "name": "ipython",
    "version": 3
   },
   "file_extension": ".py",
   "mimetype": "text/x-python",
   "name": "python",
   "nbconvert_exporter": "python",
   "pygments_lexer": "ipython3",
   "version": "3.10.9"
  }
 },
 "nbformat": 4,
 "nbformat_minor": 5
}
