{
 "cells": [
  {
   "cell_type": "code",
   "execution_count": 3,
   "metadata": {},
   "outputs": [
    {
     "ename": "IndentationError",
     "evalue": "unexpected indent (utils.py, line 2018)",
     "output_type": "error",
     "traceback": [
      "Traceback \u001b[1;36m(most recent call last)\u001b[0m:\n",
      "\u001b[0m  File \u001b[0;32mc:\\Users\\coher\\Documents\\GitHub\\QuantumDotControl\\.venv\\lib\\site-packages\\IPython\\core\\interactiveshell.py:3553\u001b[0m in \u001b[0;35mrun_code\u001b[0m\n    exec(code_obj, self.user_global_ns, self.user_ns)\u001b[0m\n",
      "\u001b[1;36m  Cell \u001b[1;32mIn[3], line 1\u001b[1;36m\n\u001b[1;33m    from utils import QuantumDotFET\u001b[1;36m\n",
      "\u001b[1;36m  File \u001b[1;32mc:\\Users\\coher\\Documents\\GitHub\\QuantumDotControl\\single-quantum-dot-tuner\\utils.py:2018\u001b[1;36m\u001b[0m\n\u001b[1;33m    def __init__(self,\u001b[0m\n\u001b[1;37m    ^\u001b[0m\n\u001b[1;31mIndentationError\u001b[0m\u001b[1;31m:\u001b[0m unexpected indent\n"
     ]
    }
   ],
   "source": [
    "from utils import QuantumDotFET\n",
    "\n",
    "from diamondminer.utils import *\n",
    "from diamondminer.miner import * "
   ]
  },
  {
   "cell_type": "markdown",
   "metadata": {},
   "source": [
    "# Connect to Tuner Class"
   ]
  },
  {
   "cell_type": "code",
   "execution_count": 4,
   "metadata": {},
   "outputs": [
    {
     "ename": "NameError",
     "evalue": "name 'QuantumDotFET' is not defined",
     "output_type": "error",
     "traceback": [
      "\u001b[1;31m---------------------------------------------------------------------------\u001b[0m",
      "\u001b[1;31mNameError\u001b[0m                                 Traceback (most recent call last)",
      "Cell \u001b[1;32mIn[4], line 1\u001b[0m\n\u001b[1;32m----> 1\u001b[0m QD_FET_Tuner \u001b[38;5;241m=\u001b[39m \u001b[43mQuantumDotFET\u001b[49m(\n\u001b[0;32m      2\u001b[0m     config\u001b[38;5;241m=\u001b[39m\u001b[38;5;124m'\u001b[39m\u001b[38;5;124mconfig-files/config.yaml\u001b[39m\u001b[38;5;124m'\u001b[39m,\n\u001b[0;32m      3\u001b[0m     tuner_config\u001b[38;5;241m=\u001b[39m\u001b[38;5;124m'\u001b[39m\u001b[38;5;124mconfig-files/fet_tuner_config.yaml\u001b[39m\u001b[38;5;124m'\u001b[39m,\n\u001b[0;32m      4\u001b[0m     station_config\u001b[38;5;241m=\u001b[39m\u001b[38;5;124m'\u001b[39m\u001b[38;5;124mconfig-files/station_config.yaml\u001b[39m\u001b[38;5;124m'\u001b[39m,\n\u001b[0;32m      5\u001b[0m     save_dir\u001b[38;5;241m=\u001b[39m\u001b[38;5;124m'\u001b[39m\u001b[38;5;124mC:\u001b[39m\u001b[38;5;130;01m\\\\\u001b[39;00m\u001b[38;5;124mUsers\u001b[39m\u001b[38;5;130;01m\\\\\u001b[39;00m\u001b[38;5;124mbennt\u001b[39m\u001b[38;5;130;01m\\\\\u001b[39;00m\u001b[38;5;124mDesktop\u001b[39m\u001b[38;5;130;01m\\\\\u001b[39;00m\u001b[38;5;124mnoise1\u001b[39m\u001b[38;5;124m'\u001b[39m\n\u001b[0;32m      6\u001b[0m )\n",
      "\u001b[1;31mNameError\u001b[0m: name 'QuantumDotFET' is not defined"
     ]
    }
   ],
   "source": [
    "QD_FET_Tuner = QuantumDotFET(\n",
    "    config='config-files/config.yaml',\n",
    "    tuner_config='config-files/fet_tuner_config.yaml',\n",
    "    station_config='config-files/station_config.yaml',\n",
    "    save_dir='C:\\\\Users\\\\bennt\\\\Desktop\\\\noise1'\n",
    ")"
   ]
  },
  {
   "cell_type": "markdown",
   "metadata": {},
   "source": [
    "Optional: Monitoring your variables"
   ]
  },
  {
   "cell_type": "code",
   "execution_count": null,
   "metadata": {},
   "outputs": [],
   "source": [
    "# !python -m qcodes.monitor.monitor\n",
    "# monitor = qc.Monitor(\n",
    "#     QD_FET_Tuner.drain_volt, \n",
    "#     QD_FET_Tuner.voltage_source.S, \n",
    "#     QD_FET_Tuner.voltage_source.L,\n",
    "#     QD_FET_Tuner.voltage_source.LB,\n",
    "#     QD_FET_Tuner.voltage_source.P,\n",
    "#     QD_FET_Tuner.voltage_source.RB,\n",
    "#     )\n",
    "# monitor.show()"
   ]
  },
  {
   "cell_type": "code",
   "execution_count": 10,
   "metadata": {},
   "outputs": [
    {
     "ename": "NameError",
     "evalue": "name 'QD_FET_Tuner' is not defined",
     "output_type": "error",
     "traceback": [
      "\u001b[1;31m---------------------------------------------------------------------------\u001b[0m",
      "\u001b[1;31mNameError\u001b[0m                                 Traceback (most recent call last)",
      "Cell \u001b[1;32mIn[10], line 1\u001b[0m\n\u001b[1;32m----> 1\u001b[0m \u001b[43mQD_FET_Tuner\u001b[49m\u001b[38;5;241m.\u001b[39mground_device()\n",
      "\u001b[1;31mNameError\u001b[0m: name 'QD_FET_Tuner' is not defined"
     ]
    }
   ],
   "source": [
    "QD_FET_Tuner.ground_device()"
   ]
  },
  {
   "cell_type": "markdown",
   "metadata": {},
   "source": [
    "# 0. Bias Device "
   ]
  },
  {
   "cell_type": "code",
   "execution_count": null,
   "metadata": {},
   "outputs": [],
   "source": [
    "QD_FET_Tuner.bias_ohmic(\n",
    "    ohmic='S', \n",
    "    V=0.01\n",
    ") "
   ]
  },
  {
   "cell_type": "markdown",
   "metadata": {},
   "source": [
    "# 1. Turn On Device"
   ]
  },
  {
   "cell_type": "code",
   "execution_count": null,
   "metadata": {},
   "outputs": [],
   "source": [
    "turn_on_data = QD_FET_Tuner.turn_on(\n",
    "    minV=0, \n",
    "    maxV=None,\n",
    "    dV=0.025\n",
    ")"
   ]
  },
  {
   "cell_type": "markdown",
   "metadata": {},
   "source": [
    "# 2. Pinch Off Gate(s)"
   ]
  },
  {
   "cell_type": "code",
   "execution_count": null,
   "metadata": {},
   "outputs": [],
   "source": [
    "# QD_FET_Tuner.deviceTurnsOn=True\n",
    "\n",
    "# QD_FET_Tuner.results['turn_on']['voltage'] = -2\n",
    "# QD_FET_Tuner.results['turn_on']['saturation'] = -3\n"
   ]
  },
  {
   "cell_type": "code",
   "execution_count": null,
   "metadata": {},
   "outputs": [],
   "source": [
    "pinch_off_data = QD_FET_Tuner.pinch_off(\n",
    "    gates=[\"LB\", \"RB\"],\n",
    "    minV=None, \n",
    "    maxV=None, \n",
    "    dV=0.005,\n",
    "    voltage_configuration={\"L\": 2.1}\n",
    ")"
   ]
  },
  {
   "cell_type": "code",
   "execution_count": null,
   "metadata": {},
   "outputs": [],
   "source": [
    "# QD_FET_Tuner.results['LB']['pinch_off']['voltage'] = -2\n",
    "# QD_FET_Tuner.results['LB']['pinch_off']['width'] = 0.5\n",
    "# QD_FET_Tuner.results['RB']['pinch_off']['voltage'] = -2\n",
    "# QD_FET_Tuner.results['RB']['pinch_off']['width'] = 0.5"
   ]
  },
  {
   "cell_type": "markdown",
   "metadata": {},
   "source": [
    "# 3. Barrier Barrier Sweep"
   ]
  },
  {
   "cell_type": "code",
   "execution_count": null,
   "metadata": {},
   "outputs": [],
   "source": [
    "df, current_axes = QD_FET_Tuner.sweep_barriers(\n",
    "    B1='LB', \n",
    "    B2='RB', \n",
    "    B1_bounds=(0.65, 0.71),\n",
    "    B2_bounds=(0.695, 0.785),\n",
    "    dV=0.001,\n",
    "    voltage_configuration={\"L\": 2.1},\n",
    "    extract_bias_point=False\n",
    ")"
   ]
  },
  {
   "cell_type": "markdown",
   "metadata": {},
   "source": [
    "Extract Bias Point "
   ]
  },
  {
   "cell_type": "code",
   "execution_count": null,
   "metadata": {},
   "outputs": [],
   "source": [
    "db_file =  \"c:\\\\Users\\\\coher\\\\Desktop\\\\noise1\\\\noise2\\\\n45_d13_2024-09-25\\\\experiments_n45_d13_2024-09-25.db\"\n",
    "\n",
    "LB_data, RB_data, I_data = get_data_from_qcodes_db(\n",
    "    db_file,\n",
    "    4,\n",
    "    plot=True\n",
    ")\n",
    "\n",
    "extract_bias_point(\n",
    "    LB_data,\n",
    "    RB_data,\n",
    "    I_data * QD_FET_Tuner.preamp_sensitivity,\n",
    "    minAngleDeg = -60,\n",
    "    maxAngleDeg = -40,\n",
    "    threshold=10,\n",
    "    minLineLength = 50,\n",
    "    maxLineGap=250,\n",
    "    debug=False,\n",
    "    plot_results=True\n",
    ")"
   ]
  },
  {
   "cell_type": "code",
   "execution_count": null,
   "metadata": {},
   "outputs": [],
   "source": [
    "bias_point = {'LB': 0.675, 'RB': 0.75}"
   ]
  },
  {
   "cell_type": "markdown",
   "metadata": {},
   "source": [
    "# Coulomb Blockade"
   ]
  },
  {
   "cell_type": "code",
   "execution_count": null,
   "metadata": {},
   "outputs": [],
   "source": [
    "df, axes = QD_FET_Tuner.coulomb_blockade(\n",
    "    gate='P', \n",
    "    gate_bounds=(0.5, -0.5), \n",
    "    dV=0.005,\n",
    "    voltage_configuration = bias_point, \n",
    ")"
   ]
  },
  {
   "cell_type": "markdown",
   "metadata": {},
   "source": [
    "Extract $\\underset{\\tilde{V}_P}{\\mathrm{argmax}}\\ G_{SD}$"
   ]
  },
  {
   "cell_type": "code",
   "execution_count": null,
   "metadata": {},
   "outputs": [],
   "source": [
    "# QD_FET_Tuner.bias_ohmic(ohmic=\"S\", V=0.01)\n",
    "# print(QD_FET_Tuner._get_drain_current())"
   ]
  },
  {
   "cell_type": "code",
   "execution_count": null,
   "metadata": {},
   "outputs": [],
   "source": [
    "results = QD_FET_Tuner.extract_max_conductance_point(\n",
    "    df,\n",
    "    plot_process=True,\n",
    "    sigma=0.5\n",
    ")\n",
    "for key, value in results.items():\n",
    "    print(f\"{key}: {value}\")"
   ]
  },
  {
   "cell_type": "markdown",
   "metadata": {},
   "source": [
    "# 5. Coulomb Diamonds"
   ]
  },
  {
   "cell_type": "code",
   "execution_count": null,
   "metadata": {},
   "outputs": [],
   "source": [
    "QD_FET_Tuner.bias_ohmic(ohmic=\"S\", V=0.01)"
   ]
  },
  {
   "cell_type": "code",
   "execution_count": null,
   "metadata": {},
   "outputs": [],
   "source": [
    "df, cd_axes = QD_FET_Tuner.coulomb_diamonds(\n",
    "    ohmic='S', \n",
    "    gate='P', \n",
    "    ohmic_bounds=(-0.5,0.5), #V\n",
    "    gate_bounds=(0.2,-0.35), #V\n",
    "    delay=0.1,\n",
    "    dV_gate=0.002, \n",
    "    dV_ohmic=0.002,\n",
    "    voltage_configuration=bias_point,\n",
    ")"
   ]
  },
  {
   "cell_type": "markdown",
   "metadata": {},
   "source": [
    "Extract lever arm, $\\alpha$, at $\\tilde{V}_{P}$"
   ]
  },
  {
   "cell_type": "code",
   "execution_count": null,
   "metadata": {},
   "outputs": [],
   "source": [
    "P_data, S_data, I_data = get_data_from_qcodes_db(\n",
    "    db_file,\n",
    "    7,\n",
    "    plot=True\n",
    ")"
   ]
  },
  {
   "cell_type": "code",
   "execution_count": null,
   "metadata": {},
   "outputs": [],
   "source": [
    "crop_left = 100\n",
    "crop_right = -70\n",
    "\n",
    "miner = Miner(\n",
    "    gate_data=P_data[crop_left:crop_right],\n",
    "    ohmic_data=S_data[:] * 1e-2,\n",
    "    current_data=I_data[:, crop_left:crop_right] * 1e-8,\n",
    "    epsR = 3.9,\n",
    "    oxide_thickness=10e-9,\n",
    "    binary_threshold=1.15,\n",
    "    blur_sigma=3.,\n",
    "    blur_kernel=(3,3)\n",
    "\n",
    ")\n",
    "diamond = miner.extract_diamonds(debug=True)"
   ]
  },
  {
   "cell_type": "code",
   "execution_count": null,
   "metadata": {},
   "outputs": [],
   "source": [
    "miner.plot_diamonds()"
   ]
  },
  {
   "cell_type": "code",
   "execution_count": null,
   "metadata": {},
   "outputs": [],
   "source": [
    "statistics = miner.get_statistics()"
   ]
  },
  {
   "cell_type": "markdown",
   "metadata": {},
   "source": [
    "# Current Trace"
   ]
  },
  {
   "cell_type": "code",
   "execution_count": null,
   "metadata": {},
   "outputs": [],
   "source": [
    "QD_FET_Tuner.drain_mm_device.NPLC(1)\n",
    "QD_FET_Tuner._smoothly_set_voltage_configuration({\"P\": -0.1}) # HIGH\n",
    "# QD_FET_Tuner._smoothly_set_voltage_configuration({\"P\": -0.42}) #LOW\n",
    "# QD_FET_Tuner._smoothly_set_voltage_configuration({\"P\": -0.26}) #CB"
   ]
  },
  {
   "cell_type": "code",
   "execution_count": null,
   "metadata": {},
   "outputs": [],
   "source": [
    "df = QD_FET_Tuner.current_trace(\n",
    "    f_sampling=20, #Hz\n",
    "    t_capture=100, #s \n",
    "    plot_psd=True,\n",
    "    meas_name=\"zero_current\",\n",
    "    # voltage_configuration={\"P\":0.1}\n",
    ")"
   ]
  },
  {
   "cell_type": "code",
   "execution_count": null,
   "metadata": {},
   "outputs": [],
   "source": [
    "db_file =  \"c:\\\\Users\\\\coher\\\\Desktop\\\\noise1\\\\n45_d13_2024-09-25\\\\experiments_n45_d13_2024-09-25.db\"\n",
    "\n",
    "\n",
    "qc.dataset.initialise_or_create_database_at(db_file)\n",
    "# tutorial_exp = qc.dataset.load_or_create_experiment(\n",
    "#     experiment_name=\"Initialization\",\n",
    "#     sample_name=\"n45_d13\"\n",
    "# )\n",
    "\n",
    "dataset = qc.dataset.load_by_run_spec(experiment_name='Initialization', captured_run_id=12)\n",
    "qc.dataset.plot_dataset(dataset)\n"
   ]
  },
  {
   "cell_type": "code",
   "execution_count": null,
   "metadata": {},
   "outputs": [],
   "source": [
    "print(len(df))"
   ]
  },
  {
   "cell_type": "markdown",
   "metadata": {},
   "source": [
    "# Ground Device"
   ]
  },
  {
   "cell_type": "code",
   "execution_count": null,
   "metadata": {},
   "outputs": [],
   "source": [
    "QD_FET_Tuner.ground_device()"
   ]
  },
  {
   "cell_type": "markdown",
   "metadata": {},
   "source": [
    "# DATABASE VIEWER"
   ]
  },
  {
   "cell_type": "code",
   "execution_count": null,
   "metadata": {},
   "outputs": [],
   "source": [
    "db_file = \"c:\\\\Users\\\\coher\\\\Desktop\\\\noise1\\\\noise2\\\\n45_d13_2024-09-25\\\\experiments_n45_d13_2024-09-25.db\"\n",
    "import IPython.lib.backgroundjobs as bg\n",
    "from plottr.apps import inspectr\n",
    "\n",
    "jobs = bg.BackgroundJobManager()\n",
    "jobs.new(inspectr.main, db_file)"
   ]
  },
  {
   "cell_type": "code",
   "execution_count": null,
   "metadata": {},
   "outputs": [],
   "source": [
    "db_file = \"c:\\\\Users\\\\coher\\\\Desktop\\\\noise1\\\\noise2\\\\n45_d13_2024-09-25\\\\experiments_n45_d13_2024-09-25.db\"\n",
    "\n",
    "import qcodes as qc\n",
    "import sys, os\n",
    "import matplotlib.pyplot as plt\n",
    "\n",
    "qc.dataset.initialise_or_create_database_at(db_file)\n",
    "\n",
    "dataset = qc.dataset.load_by_run_spec(experiment_name='Initialization', captured_run_id=10)\n",
    "qc.dataset.plot_dataset(dataset)\n",
    "df = dataset.to_pandas_dataframe().reset_index()"
   ]
  },
  {
   "cell_type": "code",
   "execution_count": null,
   "metadata": {},
   "outputs": [],
   "source": [
    "print(df)"
   ]
  },
  {
   "cell_type": "code",
   "execution_count": null,
   "metadata": {},
   "outputs": [],
   "source": [
    "# import skimage\n",
    "# from skimage.transform import hough_line, hough_line_peaks, probabilistic_hough_line\n",
    "# from skimage.feature import canny\n",
    "# from skimage.draw import line as draw_line\n",
    "# from skimage import data\n",
    "# import matplotlib.cm as cm\n",
    "\n",
    "\n",
    "# range_RB = (0.615,0.747)\n",
    "# range_LB = (0.533,0.631)\n",
    "# filtered_df = df[\n",
    "#     (df['sim900_volt_RB'] >= range_RB[0]) & (df['sim900_volt_RB'] <= range_RB[1]) &\n",
    "#     (df['sim900_volt_LB'] >= range_LB[0]) & (df['sim900_volt_LB'] <= range_LB[1])\n",
    "# ]\n",
    "\n",
    "# cropped_img, Xdata, Ydata = convert_data_to_image(filtered_df)\n",
    "# cropped_img = cropped_img[:,:,0]\n",
    "# edges = canny(cropped_img,sigma=0.5, low_threshold=0.1*np.iinfo(np.uint8).max, high_threshold=0.3 * np.iinfo(np.uint8).max)\n",
    "# lines = probabilistic_hough_line(edges, threshold=0, line_length=3,\n",
    "#                                  line_gap=0)\n",
    "# # Generating figure 2\n",
    "# fig, axes = plt.subplots(1, 3, figsize=(15, 5))\n",
    "# ax = axes.ravel()\n",
    "\n",
    "# ax[0].imshow(cropped_img, cmap=cm.gray, origin='lower', extent=[Xdata.min(), Xdata.max(), Ydata.min() , Ydata.max()],)\n",
    "# ax[0].set_title('Input image')\n",
    "\n",
    "# ax[1].imshow(edges, cmap=cm.gray, origin='lower',  extent=[Xdata.min(), Xdata.max(), Ydata.min() , Ydata.max()],)\n",
    "# ax[1].set_title('Masked Canny edges')\n",
    "\n",
    "# potential_points = {}\n",
    "# angles_data = []\n",
    "# slopes_data = []\n",
    "# for line in lines:\n",
    "#     p0_pixel, p1_pixel = line\n",
    "#     p0, p1 = pixel_polygon_to_image_units(line, filtered_df)\n",
    "\n",
    "#     dy =  (p1[1]-p0[1])\n",
    "#     dx = (p1[0]-p0[0])\n",
    "#     if dx == 0:\n",
    "#         continue\n",
    "#     m = dy/dx\n",
    "#     theta = np.arctan(m)*(180/np.pi)\n",
    "#     if theta > -40 or theta < -60:\n",
    "#         continue\n",
    "#     angles_data.append(theta)\n",
    "#     slopes_data.append(m)\n",
    "#     midpoint_pixel = (np.array(p0_pixel) + np.array(p1_pixel))/2\n",
    "#     midpoint_units = (np.array(p0) + np.array(p1))/2\n",
    "#     # print(midpoint)\n",
    "#     midpoint = midpoint.astype(int)\n",
    "#     current_at_midpoint = filtered_df['agilent_volt'].to_numpy().reshape(len(Xdata), len(Ydata))[midpoint[0],midpoint[1]]\n",
    "#     potential_points[tuple(midpoint_units)] = current_at_midpoint\n",
    "\n",
    "#     ax[1].plot((p0[0], p1[0]), (p0[1], p1[1]))\n",
    "#     ax[1].scatter([midpoint_units[0]],[midpoint_units[1]], marker='*',s=50)\n",
    "#     ax[0].plot((p0[0], p1[0]), (p0[1], p1[1]))\n",
    "#     ax[0].scatter([midpoint_units[0]],[midpoint_units[1]], marker='*',s=50)\n",
    "    \n",
    "# # ax[1].set_xlim((0, cropped_img.shape[1]))\n",
    "# # ax[1].set_ylim((cropped_img.shape[0], 0))\n",
    "# ax[1].set_title('Probabilistic Hough')\n",
    "# ax[2].hist(angles_data, bins=2*int(np.sqrt(len(slopes_data))))\n",
    "# ax[2].set_xlabel(r\"$\\theta^\\circ$\")\n",
    "# ax[2].set_ylabel(r\"$f$\")\n",
    "# # ax[2].hist(angles_data)\n",
    "# # ax[0].set_axis_off()\n",
    "# ax[1].set_axis_off()"
   ]
  },
  {
   "cell_type": "code",
   "execution_count": null,
   "metadata": {},
   "outputs": [],
   "source": [
    "# print(potential_points)\n",
    "# max_key = np.array(max(potential_points, key=potential_points.get))\n",
    "# print(\"Key with the highest value:\", max_key)\n",
    "# bias_point = {Xdata.name: max_key[0], Ydata.name: max_key[1]}\n",
    "# I = filtered_df['agilent_volt'].to_numpy().reshape(len(Ydata), len(Xdata))\n",
    "# plt.imshow(I, extent=[Xdata.min(), Xdata.max(), Ydata.min() , Ydata.max()],origin='lower')\n",
    "# plt.scatter(*max_key, marker='*', c='r')\n",
    "# plt.ylabel(Ydata.name)\n",
    "# plt.xlabel(Xdata.name)\n",
    "# plt.colorbar()\n",
    "# plt.show()\n",
    "\n",
    "\n",
    "# print(f\"Bias point: {bias_point}\")"
   ]
  },
  {
   "cell_type": "code",
   "execution_count": null,
   "metadata": {},
   "outputs": [],
   "source": []
  }
 ],
 "metadata": {
  "kernelspec": {
   "display_name": ".venv",
   "language": "python",
   "name": "python3"
  },
  "language_info": {
   "codemirror_mode": {
    "name": "ipython",
    "version": 3
   },
   "file_extension": ".py",
   "mimetype": "text/x-python",
   "name": "python",
   "nbconvert_exporter": "python",
   "pygments_lexer": "ipython3",
   "version": "3.10.9"
  }
 },
 "nbformat": 4,
 "nbformat_minor": 2
}
